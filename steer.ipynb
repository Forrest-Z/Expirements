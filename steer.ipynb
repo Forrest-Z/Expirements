{
  "nbformat": 4,
  "nbformat_minor": 0,
  "metadata": {
    "colab": {
      "name": "TensorFlow with GPU",
      "version": "0.3.2",
      "provenance": [],
      "collapsed_sections": [],
      "include_colab_link": true
    },
    "kernelspec": {
      "display_name": "Python 2",
      "name": "python2"
    }
  },
  "cells": [
    {
      "cell_type": "markdown",
      "metadata": {
        "id": "view-in-github",
        "colab_type": "text"
      },
      "source": [
        "[View in Colaboratory](https://colab.research.google.com/github/sharathsrini/Expirements/blob/master/steer.ipynb)"
      ]
    },
    {
      "metadata": {
        "id": "ACrGYeajDKC0",
        "colab_type": "text"
      },
      "cell_type": "markdown",
      "source": [
        "## ***Pure Pursuit***\n",
        "\n",
        "---\n",
        "\n"
      ]
    },
    {
      "metadata": {
        "id": "jNPTi8oIC4mT",
        "colab_type": "code",
        "colab": {
          "base_uri": "https://localhost:8080/",
          "height": 34
        },
        "outputId": "49d0fe40-762c-4d52-bf3e-55a200c505cb"
      },
      "cell_type": "code",
      "source": [
        "import numpy as np\n",
        "import math\n",
        "import matplotlib.pyplot as plt\n",
        "\n",
        "print(\"Ready to Go \")"
      ],
      "execution_count": 1,
      "outputs": [
        {
          "output_type": "stream",
          "text": [
            "Ready to Go \n"
          ],
          "name": "stdout"
        }
      ]
    },
    {
      "metadata": {
        "id": "wJlQEX6mDf6l",
        "colab_type": "code",
        "colab": {}
      },
      "cell_type": "code",
      "source": [
        "k = 0.1  # look forward gain\n",
        "Lfc = 1.0  # look-ahead distance\n",
        "Kp = 1.0  # speed propotional gain\n",
        "dt = 0.1  # [s]\n",
        "L = 3.0  # [m] wheel base of vehicle\n",
        "plot_graph = True"
      ],
      "execution_count": 0,
      "outputs": []
    },
    {
      "metadata": {
        "id": "irOoyCL5Ds9a",
        "colab_type": "code",
        "colab": {}
      },
      "cell_type": "code",
      "source": [
        "class State:\n",
        "\n",
        "    def __init__(self, x=0.0, y=0.0, yaw=0.0, v=0.0):\n",
        "        self.x = x\n",
        "        self.y = y\n",
        "        self.yaw = yaw\n",
        "        self.v = v"
      ],
      "execution_count": 0,
      "outputs": []
    },
    {
      "metadata": {
        "id": "aT_ax_EbDn8G",
        "colab_type": "code",
        "colab": {}
      },
      "cell_type": "code",
      "source": [
        "def update(state, a, delta):\n",
        "\n",
        "    state.x = state.x + state.v * math.cos(state.yaw) * dt\n",
        "    state.y = state.y + state.v * math.sin(state.yaw) * dt\n",
        "    state.yaw = state.yaw + state.v / L * math.tan(delta) * dt\n",
        "    state.v = state.v + a * dt\n",
        "\n",
        "    return state\n",
        "\n",
        "\n",
        "def PID_control(target, current):\n",
        "    a = Kp * (target - current)\n",
        "\n",
        "    return a\n",
        "\n",
        "\n",
        "def pure_pursuit_control(state, cx, cy, pind):\n",
        "\n",
        "    ind = calculate_target_index(state, cx, cy)\n",
        "\n",
        "    if pind >= ind:\n",
        "        ind = pind\n",
        "\n",
        "    if ind < len(cx):\n",
        "        tx = cx[ind]\n",
        "        ty = cy[ind]\n",
        "    else:\n",
        "        tx = cx[-1]\n",
        "        ty = cy[-1]\n",
        "        ind = len(cx) - 1\n",
        "\n",
        "    alpha = math.atan2(ty - state.y, tx - state.x) - state.yaw\n",
        "\n",
        "    if state.v < 0:  # back\n",
        "        alpha = math.pi - alpha\n",
        "\n",
        "    Lf = k * state.v + Lfc\n",
        "\n",
        "    delta = math.atan2(2.0 * L * math.sin(alpha) / Lf, 1.0)\n",
        "\n",
        "    return delta, ind"
      ],
      "execution_count": 0,
      "outputs": []
    },
    {
      "metadata": {
        "id": "hVsiqkp2DvFH",
        "colab_type": "code",
        "colab": {}
      },
      "cell_type": "code",
      "source": [
        "def calculate_target_index(state, cx, cy):\n",
        "\n",
        "    # search nearest point index\n",
        "    dx = [state.x - icx for icx in cx]\n",
        "    dy = [state.y - icy for icy in cy]\n",
        "    d = [abs(math.sqrt(idx ** 2 + idy ** 2)) for (idx, idy) in zip(dx, dy)]\n",
        "    ind = d.index(min(d))\n",
        "    L = 0.0\n",
        "\n",
        "    Lf = k * state.v + Lfc\n",
        "\n",
        "    # search look ahead target point index\n",
        "    while Lf > L and (ind + 1) < len(cx):\n",
        "        dx = cx[ind + 1] - cx[ind]\n",
        "        dy = cx[ind + 1] - cx[ind]\n",
        "        L += math.sqrt(dx ** 2 + dy ** 2)\n",
        "        ind += 1\n",
        "\n",
        "    return ind"
      ],
      "execution_count": 0,
      "outputs": []
    },
    {
      "metadata": {
        "id": "9JUvqhP_DaIN",
        "colab_type": "code",
        "colab": {}
      },
      "cell_type": "code",
      "source": [
        "def main():\n",
        "    #  target course\n",
        "    cx = np.arange(0, 50, 0.1)\n",
        "    cy = [math.sin(ix / 5.0) * ix / 2.0 for ix in cx]\n",
        "\n",
        "    target_speed = 10.0 / 3.6  # [m/s]\n",
        "\n",
        "    T = 100.0  # max simulation time\n",
        "\n",
        "    # initial state\n",
        "    state = State(x=-0.0, y=-3.0, yaw=0.0, v=0.0)\n",
        "\n",
        "    lastIndex = len(cx) - 1\n",
        "    time = 0.0\n",
        "    x = [state.x]\n",
        "    y = [state.y]\n",
        "    yaw = [state.yaw]\n",
        "    v = [state.v]\n",
        "    t = [0.0]\n",
        "    target_ind = calculate_target_index(state, cx, cy)\n",
        "\n",
        "    while T >= time and lastIndex > target_ind:\n",
        "        ai = PID_control(target_speed, state.v)\n",
        "        di, target_ind = pure_pursuit_control(state, cx, cy, target_ind)\n",
        "        state = update(state, ai, di)\n",
        "\n",
        "        time = time + dt\n",
        "\n",
        "        x.append(state.x)\n",
        "        y.append(state.y)\n",
        "        yaw.append(state.yaw)\n",
        "        v.append(state.v)\n",
        "        t.append(time)\n",
        "\n",
        "        if plot_graph:\n",
        "            plt.cla()\n",
        "            plt.plot(cx, cy, \".r\", label=\"course\")\n",
        "            plt.plot(x, y, \"-b\", label=\"trajectory\")\n",
        "            plt.plot(cx[target_ind], cy[target_ind], \"xg\", label=\"target\")\n",
        "            plt.axis(\"equal\")\n",
        "            plt.grid(True)\n",
        "            plt.title(\"Speed[km/h]:\" + str(state.v * 3.6)[:4])\n",
        "            plt.pause(0.001)\n",
        "\n",
        "    # Test\n",
        "    assert lastIndex >= target_ind, \"Cannot goal\"\n",
        "\n",
        "    if plot_graph:\n",
        "        plt.plot(cx, cy, \".r\", label=\"course\")\n",
        "        plt.plot(x, y, \"-b\", label=\"trajectory\")\n",
        "        plt.legend()\n",
        "        plt.xlabel(\"x[m]\")\n",
        "        plt.ylabel(\"y[m]\")\n",
        "        plt.axis(\"equal\")\n",
        "        plt.grid(True)\n",
        "\n",
        "        flg, ax = plt.subplots(1)\n",
        "        plt.plot(t, [iv * 3.6 for iv in v], \"-r\")\n",
        "        plt.xlabel(\"Time[s]\")\n",
        "        plt.ylabel(\"Speed[km/h]\")\n",
        "        plt.grid(True)\n",
        "        plt.show()\n",
        "\n",
        "\n",
        "if __name__ == '__main__':\n",
        "    print(\"Pure pursuit path tracking simulation start\")\n",
        "    main()"
      ],
      "execution_count": 0,
      "outputs": []
    }
  ]
}