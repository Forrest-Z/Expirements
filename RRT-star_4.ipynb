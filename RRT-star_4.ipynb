{
  "nbformat": 4,
  "nbformat_minor": 0,
  "metadata": {
    "colab": {
      "name": "TensorFlow with GPU",
      "version": "0.3.2",
      "provenance": [],
      "collapsed_sections": [],
      "include_colab_link": true
    },
    "kernelspec": {
      "display_name": "Python 2",
      "name": "python2"
    }
  },
  "cells": [
    {
      "cell_type": "markdown",
      "metadata": {
        "id": "view-in-github",
        "colab_type": "text"
      },
      "source": [
        "[View in Colaboratory](https://colab.research.google.com/github/sharathsrini/Expirements/blob/master/RRT-star_4.ipynb)"
      ]
    },
    {
      "metadata": {
        "id": "8S39r7XUa5dE",
        "colab_type": "text"
      },
      "cell_type": "markdown",
      "source": [
        "# Things To do:\n",
        "\n",
        "1. `state`: **State class** with steer and heading incorporated. \n",
        "2. `get_random_points`: A **function** to **approximate random points on the grid.**\n",
        "3. `get_nearest_list_index`: Find th next closest node to expand. This **function** will get the node that finds a node which is close to both the node that we are in and the point chosen in random\n",
        "\n",
        "4. `transition` :   expand tree, based on the update function of each state.\n",
        "5. `collision_check` :  Check for collision , if the distance is less than 3m,  there is no occurence of any collison in the chosen node."
      ]
    },
    {
      "metadata": {
        "id": "n2xe0-dh_j4F",
        "colab_type": "code",
        "colab": {
          "base_uri": "https://localhost:8080/",
          "height": 17
        },
        "outputId": "79ed28b6-6418-45e3-f712-b9a216e3a439"
      },
      "cell_type": "code",
      "source": [
        "SPEED = 1.4\n",
        "LENGTH = 1.5"
      ],
      "execution_count": 1,
      "outputs": []
    },
    {
      "metadata": {
        "id": "J9nJPTaHZr3G",
        "colab_type": "code",
        "colab": {
          "base_uri": "https://localhost:8080/",
          "height": 17
        },
        "outputId": "7846afc8-24ea-4e65-96d4-19e4e26fb3e2"
      },
      "cell_type": "code",
      "source": [
        "class state():\n",
        "    \n",
        "    def __init__(self, x, y, theta, steer):\n",
        "        self.x = x\n",
        "        self.y = y\n",
        "        self.theta = theta\n",
        "        self.steer = steer\n",
        "        self.cost = 0.0\n",
        "        self.parent = None\n",
        "\n"
      ],
      "execution_count": 18,
      "outputs": []
    },
    {
      "metadata": {
        "id": "oBS8fYGPW3ZY",
        "colab_type": "code",
        "colab": {
          "base_uri": "https://localhost:8080/",
          "height": 17
        },
        "outputId": "714771d7-b7ed-4aca-e216-0e97bff145e3"
      },
      "cell_type": "code",
      "source": [
        "\n",
        "def delta_augment(delta, n, off):\n",
        "\n",
        "    delta_list = []\n",
        "    delta_list.append(delta)\n",
        "    delta_calc = delta\n",
        "    for i in range(0 ,n):\n",
        "        delta_calc += off   \n",
        "        if delta_calc < max_angle:\n",
        "            delta_list.append(delta_calc)\n",
        "        \n",
        "    delta_calc = delta\n",
        "    for i in range(0 ,n):\n",
        "        delta_calc -= off\n",
        "        if min_angle < delta_calc:\n",
        "            delta_list.append(delta_calc)\n",
        "        \n",
        "    return delta_list"
      ],
      "execution_count": 17,
      "outputs": []
    },
    {
      "metadata": {
        "id": "mWulVNRhaP4R",
        "colab_type": "code",
        "colab": {
          "base_uri": "https://localhost:8080/",
          "height": 17
        },
        "outputId": "0b238caf-7b18-4bd0-8b62-799f2f9190fd"
      },
      "cell_type": "code",
      "source": [
        "class RRT():\n",
        "   \n",
        "    def __init__(self, start, goal, obstacleList, random_area,\n",
        "                 expand_distance=0.5, goal_sample_rate=20, maxIter=1000):\n",
        "        \n",
        "        self.start = state(start[0], start[1])\n",
        "        self.end = state(goal[0], goal[1])\n",
        "        self.minrand = random_area[0]\n",
        "        self.maxrand = random_area[1]\n",
        "        self.expand_distance = expand_distance\n",
        "        self.goal_sample_rate = goal_sample_rate\n",
        "        self.max_iter = max_iter\n",
        "        self.obstacleList = obstacleList\n",
        "        \n",
        "        \n",
        "    def get_random_point(self):       \n",
        "\n",
        "        if random.randint(0, 100) > self.goal_sample_rate:\n",
        "            rand = [random.uniform(self.minrand, self.maxrand),\n",
        "                   random.uniform(self.minrand, self.maxrand)]\n",
        "        else:  # goal point sampling\n",
        "            rand = [self.end.x, self.end.y]\n",
        "\n",
        "        return rand\n",
        "      \n",
        "      \n",
        "    def get_nearest_list_index(self, nodeList, rand):      \n",
        "      \n",
        "        dlist = [(node.x - rand[0]) ** 2 + (node.y - rnd[1])\n",
        "                 ** 2 for node in nodeList]\n",
        "        min_index = dlist.index(min(dlist))\n",
        "\n",
        "        return min_index\n",
        "      \n",
        "      \n",
        "    def transition(self, rnd, delta, nind):\n",
        "      \n",
        "      \n",
        "        omega = SPEED/LENGTH * np.tan(delta)\n",
        "        dx = SPEED * np.cos(v_state.theta) * dt\n",
        "        dy = SPEED * np.sin(v_state.theta) * dt\n",
        "\n",
        "       \n",
        "        nearestNode = self.nodeList[nind]\n",
        "        #theta = math.atan2(rnd[1] - nearestNode.y, rnd[0] - nearestNode.x)\n",
        "        new_state = copy.deepcopy(nearestNode)\n",
        "        new_state.x += self.expand_distance * math.cos(theta)\n",
        "        new_state.y += self.expand_distance * math.sin(theta)\n",
        "        new_state.theta = math.atan2(rnd[1] - nearestNode.y, rnd[0] - nearestNode.x)\n",
        "        new_state.steer = delta\n",
        "        new_state.cost += self.expandDis\n",
        "        new_state.parent = nind\n",
        "        return new_state\n",
        "      \n",
        "      \n",
        "      \n",
        "   \n",
        "    def collision_check(self, node, obstacleList):  \n",
        "        for (ox, oy) in obstacleList:\n",
        "            dx = ox - node.x\n",
        "            dy = oy - node.y\n",
        "            d = dx * dx + dy * dy\n",
        "            if d <= 3:\n",
        "                return False  # collision\n",
        "\n",
        "        return True  # safe\n",
        "      \n",
        "      \n",
        "    def find_near_nodes(self, newNode):\n",
        "        nearest_node = len(self.nodeList)\n",
        "        r = 50.0 * math.sqrt((math.log(nearest_node) / nearest_node))\n",
        "        #r = self.expandDis * 5.0\n",
        "        dlist = [(node.x - newNode.x) ** 2 + (node.y - newNode.y) ** 2 for node in self.nodeList]\n",
        "        nearinds = [dlist.index(i) for i in dlist if i <= r ** 2]\n",
        "        return nearinds\n"
      ],
      "execution_count": 16,
      "outputs": []
    },
    {
      "metadata": {
        "id": "KS0EawLMaVIB",
        "colab_type": "code",
        "colab": {}
      },
      "cell_type": "code",
      "source": [
        ""
      ],
      "execution_count": 0,
      "outputs": []
    }
  ]
}