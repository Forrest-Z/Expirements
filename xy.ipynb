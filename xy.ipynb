{
 "cells": [
  {
   "cell_type": "markdown",
   "metadata": {},
   "source": [
    "### Import the necessary packages"
   ]
  },
  {
   "cell_type": "code",
   "execution_count": 57,
   "metadata": {
    "collapsed": true
   },
   "outputs": [],
   "source": [
    "import numpy as np\n",
    "import matplotlib.pyplot as plt\n",
    "%matplotlib inline\n",
    "import time"
   ]
  },
  {
   "cell_type": "markdown",
   "metadata": {},
   "source": [
    "### Vehicle Parameters"
   ]
  },
  {
   "cell_type": "code",
   "execution_count": 58,
   "metadata": {
    "collapsed": true
   },
   "outputs": [],
   "source": [
    "SPEED = 1.4\n",
    "LENGTH = 1.5\n"
   ]
  },
  {
   "cell_type": "code",
   "execution_count": 59,
   "metadata": {
    "collapsed": true
   },
   "outputs": [],
   "source": [
    "vehicle_points = np.array([[-1.1, 2],[0, 2],[1.1, 2],[-1.1, 0],[0, 0],[1.1,0],[-1.1, -2],[0, -2],[1.1, -2]])"
   ]
  },
  {
   "cell_type": "code",
   "execution_count": 60,
   "metadata": {
    "collapsed": true
   },
   "outputs": [],
   "source": [
    "max_angle = 0.785398\n",
    "min_angle = -0.785398"
   ]
  },
  {
   "cell_type": "markdown",
   "metadata": {},
   "source": [
    "### State Model"
   ]
  },
  {
   "cell_type": "code",
   "execution_count": 61,
   "metadata": {
    "collapsed": true
   },
   "outputs": [],
   "source": [
    "class state:\n",
    "\n",
    "    def __init__(self, x, y, theta, g,f,h, steer):\n",
    "        self.x = x\n",
    "        self.y = y\n",
    "        self.theta = theta\n",
    "        self.g = g\n",
    "        self.f = f\n",
    "        self.h = h\n",
    "        self.steer = steer\n"
   ]
  },
  {
   "cell_type": "markdown",
   "metadata": {},
   "source": [
    "### State Transition"
   ]
  },
  {
   "cell_type": "code",
   "execution_count": 203,
   "metadata": {
    "collapsed": true
   },
   "outputs": [],
   "source": [
    "def transition(v_state, delta, dt, goal):\n",
    "   \n",
    "    # ---Begin Vehicle model---\n",
    "    #delta_rad = deg_to_rad(delta)\n",
    "    omega = SPEED/LENGTH * np.tan(delta)\n",
    "    \n",
    "    \n",
    "    d_x = SPEED * np.cos(v_state.theta) * dt\n",
    "    d_y = SPEED * np.sin(v_state.theta) * dt\n",
    "    \n",
    "    next_x = v_state.x + d_x\n",
    "    next_y = v_state.y + d_y\n",
    "    next_theta = normalize(v_state.theta + (omega*dt)) \n",
    "\n",
    "    # ---End Vehicle model---\n",
    "    next_g = v_state.g + np.sqrt( d_x * d_x +  d_y * d_y )\n",
    "    \n",
    "    next_h = heuristic(next_x, next_y, goal)\n",
    "    \n",
    "    next_f = next_g + next_h  + np.abs(delta) * 0.1\n",
    "        \n",
    "    next_steer = delta\n",
    "\n",
    "    # Create a new State object with all of the \"next\" values.\n",
    "    new_state = state(next_x, next_y, next_theta, next_g, next_f, next_h, next_steer)\n",
    "\n",
    "    return new_state"
   ]
  },
  {
   "cell_type": "markdown",
   "metadata": {},
   "source": [
    "### Grid Resolution"
   ]
  },
  {
   "cell_type": "code",
   "execution_count": 64,
   "metadata": {
    "collapsed": true
   },
   "outputs": [],
   "source": [
    "grid_x_m = 20\n",
    "grid_y_m = 20\n",
    "\n",
    "coll_cell_side = 0.5\n",
    "grid_coll_x = np.int( np.ceil(grid_x_m/coll_cell_side) )\n",
    "grid_coll_y = np.int( np.ceil(grid_y_m/coll_cell_side) )\n",
    "\n",
    "grid = np.zeros((grid_coll_x,grid_coll_y), np.int)"
   ]
  },
  {
   "cell_type": "code",
   "execution_count": 65,
   "metadata": {},
   "outputs": [
    {
     "data": {
      "text/plain": [
       "array([[0, 0, 0, 0, 0, 0, 0, 0, 0, 0, 0, 0, 0, 0, 0, 0, 0, 0, 0, 0, 0, 0,\n",
       "        0, 0, 0, 0, 0, 0, 0, 0, 0, 0, 0, 0, 0, 0, 0, 0, 0, 0],\n",
       "       [0, 0, 0, 0, 0, 0, 0, 0, 0, 0, 0, 0, 0, 0, 0, 0, 0, 0, 0, 0, 0, 0,\n",
       "        0, 0, 0, 0, 0, 0, 0, 0, 0, 0, 0, 0, 0, 0, 0, 0, 0, 0],\n",
       "       [0, 0, 0, 0, 0, 0, 0, 0, 0, 0, 0, 0, 0, 0, 0, 0, 0, 0, 0, 0, 0, 0,\n",
       "        0, 0, 0, 0, 0, 0, 0, 0, 0, 0, 0, 0, 0, 0, 0, 0, 0, 0],\n",
       "       [0, 0, 0, 0, 0, 0, 0, 0, 0, 0, 0, 0, 0, 0, 0, 0, 0, 0, 0, 0, 0, 0,\n",
       "        0, 0, 0, 0, 0, 0, 0, 0, 0, 0, 0, 0, 0, 0, 0, 0, 0, 0],\n",
       "       [0, 0, 0, 0, 0, 0, 0, 0, 0, 0, 0, 0, 0, 0, 0, 0, 0, 0, 0, 0, 0, 0,\n",
       "        0, 0, 0, 0, 0, 0, 0, 0, 0, 0, 0, 0, 0, 0, 0, 0, 0, 0],\n",
       "       [0, 0, 0, 0, 0, 0, 0, 0, 0, 0, 0, 0, 0, 0, 0, 0, 0, 0, 0, 0, 0, 0,\n",
       "        0, 0, 0, 0, 0, 0, 0, 0, 0, 0, 0, 0, 0, 0, 0, 0, 0, 0],\n",
       "       [0, 0, 0, 0, 0, 0, 0, 0, 0, 0, 0, 0, 0, 0, 0, 0, 0, 0, 0, 0, 0, 0,\n",
       "        0, 0, 0, 0, 0, 0, 0, 0, 0, 0, 0, 0, 0, 0, 0, 0, 0, 0],\n",
       "       [0, 0, 0, 0, 0, 0, 0, 0, 0, 0, 0, 0, 0, 0, 0, 0, 0, 0, 0, 0, 0, 0,\n",
       "        0, 0, 0, 0, 0, 0, 0, 0, 0, 0, 0, 0, 0, 0, 0, 0, 0, 0],\n",
       "       [0, 0, 0, 0, 0, 0, 0, 0, 0, 0, 0, 0, 0, 0, 0, 0, 0, 0, 0, 0, 0, 0,\n",
       "        0, 0, 0, 0, 0, 0, 0, 0, 0, 0, 0, 0, 0, 0, 0, 0, 0, 0],\n",
       "       [0, 0, 0, 0, 0, 0, 0, 0, 0, 0, 0, 0, 0, 0, 0, 0, 0, 0, 0, 0, 0, 0,\n",
       "        0, 0, 0, 0, 0, 0, 0, 0, 0, 0, 0, 0, 0, 0, 0, 0, 0, 0],\n",
       "       [0, 0, 0, 0, 0, 0, 0, 0, 0, 0, 0, 0, 0, 0, 0, 0, 0, 0, 0, 0, 0, 0,\n",
       "        0, 0, 0, 0, 0, 0, 0, 0, 0, 0, 0, 0, 0, 0, 0, 0, 0, 0],\n",
       "       [0, 0, 0, 0, 0, 0, 0, 0, 0, 0, 0, 0, 0, 0, 0, 0, 0, 0, 0, 0, 0, 0,\n",
       "        0, 0, 0, 0, 0, 0, 0, 0, 0, 0, 0, 0, 0, 0, 0, 0, 0, 0],\n",
       "       [0, 0, 0, 0, 0, 0, 0, 0, 0, 0, 0, 0, 0, 0, 0, 0, 0, 0, 0, 0, 0, 0,\n",
       "        0, 0, 0, 0, 0, 0, 0, 0, 0, 0, 0, 0, 0, 0, 0, 0, 0, 0],\n",
       "       [0, 0, 0, 0, 0, 0, 0, 0, 0, 0, 0, 0, 0, 0, 0, 0, 0, 0, 0, 0, 0, 0,\n",
       "        0, 0, 0, 0, 0, 0, 0, 0, 0, 0, 0, 0, 0, 0, 0, 0, 0, 0],\n",
       "       [0, 0, 0, 0, 0, 0, 0, 0, 0, 0, 0, 0, 0, 0, 0, 0, 0, 0, 0, 0, 0, 0,\n",
       "        0, 0, 0, 0, 0, 0, 0, 0, 0, 0, 0, 0, 0, 0, 0, 0, 0, 0],\n",
       "       [0, 0, 0, 0, 0, 0, 0, 0, 0, 0, 0, 0, 0, 0, 0, 0, 0, 0, 0, 0, 0, 0,\n",
       "        0, 0, 0, 0, 0, 0, 0, 0, 0, 0, 0, 0, 0, 0, 0, 0, 0, 0],\n",
       "       [0, 0, 0, 0, 0, 0, 0, 0, 0, 0, 0, 0, 0, 0, 0, 0, 0, 0, 0, 0, 0, 0,\n",
       "        0, 0, 0, 0, 0, 0, 0, 0, 0, 0, 0, 0, 0, 0, 0, 0, 0, 0],\n",
       "       [0, 0, 0, 0, 0, 0, 0, 0, 0, 0, 0, 0, 0, 0, 0, 0, 0, 0, 0, 0, 0, 0,\n",
       "        0, 0, 0, 0, 0, 0, 0, 0, 0, 0, 0, 0, 0, 0, 0, 0, 0, 0],\n",
       "       [0, 0, 0, 0, 0, 0, 0, 0, 0, 0, 0, 0, 0, 0, 0, 0, 0, 0, 0, 0, 0, 0,\n",
       "        0, 0, 0, 0, 0, 0, 0, 0, 0, 0, 0, 0, 0, 0, 0, 0, 0, 0],\n",
       "       [0, 0, 0, 0, 0, 0, 0, 0, 0, 0, 0, 0, 0, 0, 0, 0, 0, 0, 0, 0, 0, 0,\n",
       "        0, 0, 0, 0, 0, 0, 0, 0, 0, 0, 0, 0, 0, 0, 0, 0, 0, 0],\n",
       "       [0, 0, 0, 0, 0, 0, 0, 0, 0, 0, 0, 0, 0, 0, 0, 0, 0, 0, 0, 0, 0, 0,\n",
       "        0, 0, 0, 0, 0, 0, 0, 0, 0, 0, 0, 0, 0, 0, 0, 0, 0, 0],\n",
       "       [0, 0, 0, 0, 0, 0, 0, 0, 0, 0, 0, 0, 0, 0, 0, 0, 0, 0, 0, 0, 0, 0,\n",
       "        0, 0, 0, 0, 0, 0, 0, 0, 0, 0, 0, 0, 0, 0, 0, 0, 0, 0],\n",
       "       [0, 0, 0, 0, 0, 0, 0, 0, 0, 0, 0, 0, 0, 0, 0, 0, 0, 0, 0, 0, 0, 0,\n",
       "        0, 0, 0, 0, 0, 0, 0, 0, 0, 0, 0, 0, 0, 0, 0, 0, 0, 0],\n",
       "       [0, 0, 0, 0, 0, 0, 0, 0, 0, 0, 0, 0, 0, 0, 0, 0, 0, 0, 0, 0, 0, 0,\n",
       "        0, 0, 0, 0, 0, 0, 0, 0, 0, 0, 0, 0, 0, 0, 0, 0, 0, 0],\n",
       "       [0, 0, 0, 0, 0, 0, 0, 0, 0, 0, 0, 0, 0, 0, 0, 0, 0, 0, 0, 0, 0, 0,\n",
       "        0, 0, 0, 0, 0, 0, 0, 0, 0, 0, 0, 0, 0, 0, 0, 0, 0, 0],\n",
       "       [0, 0, 0, 0, 0, 0, 0, 0, 0, 0, 0, 0, 0, 0, 0, 0, 0, 0, 0, 0, 0, 0,\n",
       "        0, 0, 0, 0, 0, 0, 0, 0, 0, 0, 0, 0, 0, 0, 0, 0, 0, 0],\n",
       "       [0, 0, 0, 0, 0, 0, 0, 0, 0, 0, 0, 0, 0, 0, 0, 0, 0, 0, 0, 0, 0, 0,\n",
       "        0, 0, 0, 0, 0, 0, 0, 0, 0, 0, 0, 0, 0, 0, 0, 0, 0, 0],\n",
       "       [0, 0, 0, 0, 0, 0, 0, 0, 0, 0, 0, 0, 0, 0, 0, 0, 0, 0, 0, 0, 0, 0,\n",
       "        0, 0, 0, 0, 0, 0, 0, 0, 0, 0, 0, 0, 0, 0, 0, 0, 0, 0],\n",
       "       [0, 0, 0, 0, 0, 0, 0, 0, 0, 0, 0, 0, 0, 0, 0, 0, 0, 0, 0, 0, 0, 0,\n",
       "        0, 0, 0, 0, 0, 0, 0, 0, 0, 0, 0, 0, 0, 0, 0, 0, 0, 0],\n",
       "       [0, 0, 0, 0, 0, 0, 0, 0, 0, 0, 0, 0, 0, 0, 0, 0, 0, 0, 0, 0, 0, 0,\n",
       "        0, 0, 0, 0, 0, 0, 0, 0, 0, 0, 0, 0, 0, 0, 0, 0, 0, 0],\n",
       "       [0, 0, 0, 0, 0, 0, 0, 0, 0, 0, 0, 0, 0, 0, 0, 0, 0, 0, 0, 0, 0, 0,\n",
       "        0, 0, 0, 0, 0, 0, 0, 0, 0, 0, 0, 0, 0, 0, 0, 0, 0, 0],\n",
       "       [0, 0, 0, 0, 0, 0, 0, 0, 0, 0, 0, 0, 0, 0, 0, 0, 0, 0, 0, 0, 0, 0,\n",
       "        0, 0, 0, 0, 0, 0, 0, 0, 0, 0, 0, 0, 0, 0, 0, 0, 0, 0],\n",
       "       [0, 0, 0, 0, 0, 0, 0, 0, 0, 0, 0, 0, 0, 0, 0, 0, 0, 0, 0, 0, 0, 0,\n",
       "        0, 0, 0, 0, 0, 0, 0, 0, 0, 0, 0, 0, 0, 0, 0, 0, 0, 0],\n",
       "       [0, 0, 0, 0, 0, 0, 0, 0, 0, 0, 0, 0, 0, 0, 0, 0, 0, 0, 0, 0, 0, 0,\n",
       "        0, 0, 0, 0, 0, 0, 0, 0, 0, 0, 0, 0, 0, 0, 0, 0, 0, 0],\n",
       "       [0, 0, 0, 0, 0, 0, 0, 0, 0, 0, 0, 0, 0, 0, 0, 0, 0, 0, 0, 0, 0, 0,\n",
       "        0, 0, 0, 0, 0, 0, 0, 0, 0, 0, 0, 0, 0, 0, 0, 0, 0, 0],\n",
       "       [0, 0, 0, 0, 0, 0, 0, 0, 0, 0, 0, 0, 0, 0, 0, 0, 0, 0, 0, 0, 0, 0,\n",
       "        0, 0, 0, 0, 0, 0, 0, 0, 0, 0, 0, 0, 0, 0, 0, 0, 0, 0],\n",
       "       [0, 0, 0, 0, 0, 0, 0, 0, 0, 0, 0, 0, 0, 0, 0, 0, 0, 0, 0, 0, 0, 0,\n",
       "        0, 0, 0, 0, 0, 0, 0, 0, 0, 0, 0, 0, 0, 0, 0, 0, 0, 0],\n",
       "       [0, 0, 0, 0, 0, 0, 0, 0, 0, 0, 0, 0, 0, 0, 0, 0, 0, 0, 0, 0, 0, 0,\n",
       "        0, 0, 0, 0, 0, 0, 0, 0, 0, 0, 0, 0, 0, 0, 0, 0, 0, 0],\n",
       "       [0, 0, 0, 0, 0, 0, 0, 0, 0, 0, 0, 0, 0, 0, 0, 0, 0, 0, 0, 0, 0, 0,\n",
       "        0, 0, 0, 0, 0, 0, 0, 0, 0, 0, 0, 0, 0, 0, 0, 0, 0, 0],\n",
       "       [0, 0, 0, 0, 0, 0, 0, 0, 0, 0, 0, 0, 0, 0, 0, 0, 0, 0, 0, 0, 0, 0,\n",
       "        0, 0, 0, 0, 0, 0, 0, 0, 0, 0, 0, 0, 0, 0, 0, 0, 0, 0]])"
      ]
     },
     "execution_count": 65,
     "metadata": {},
     "output_type": "execute_result"
    }
   ],
   "source": [
    "grid"
   ]
  },
  {
   "cell_type": "code",
   "execution_count": 66,
   "metadata": {
    "collapsed": true
   },
   "outputs": [],
   "source": [
    "cell_side = 0.5\n",
    "x_offset = (grid.shape[1]*coll_cell_side)/2\n",
    "y_offset = (grid.shape[0]*coll_cell_side)/2\n"
   ]
  },
  {
   "cell_type": "markdown",
   "metadata": {},
   "source": [
    "### A Class to store  every  state and the index"
   ]
  },
  {
   "cell_type": "code",
   "execution_count": 67,
   "metadata": {
    "collapsed": true
   },
   "outputs": [],
   "source": [
    "class link:\n",
    "    def __init__(self, inp_state, inp_index):\n",
    "        self.state = inp_state\n",
    "        self.index = inp_index\n",
    "        "
   ]
  },
  {
   "cell_type": "markdown",
   "metadata": {},
   "source": [
    "### Start And Goal"
   ]
  },
  {
   "cell_type": "code",
   "execution_count": 68,
   "metadata": {
    "collapsed": true
   },
   "outputs": [],
   "source": [
    "class start:\n",
    "\n",
    "    def __init__(self, x, y, theta):\n",
    "        self.x = x\n",
    "        self.y = y\n",
    "        self.theta = theta\n",
    "        \n",
    "class goal:\n",
    "\n",
    "    def __init__(self, x, y):\n",
    "        self.x = x\n",
    "        self.y = y"
   ]
  },
  {
   "cell_type": "markdown",
   "metadata": {},
   "source": [
    "### Helper Functions"
   ]
  },
  {
   "cell_type": "code",
   "execution_count": 69,
   "metadata": {
    "collapsed": true
   },
   "outputs": [],
   "source": [
    "def deg_to_rad(delta):\n",
    "    return delta * np.pi/180"
   ]
  },
  {
   "cell_type": "code",
   "execution_count": 70,
   "metadata": {
    "collapsed": true
   },
   "outputs": [],
   "source": [
    "def rad_to_deg(delta):\n",
    "    return delta * 180 / np.pi"
   ]
  },
  {
   "cell_type": "code",
   "execution_count": 71,
   "metadata": {
    "collapsed": true
   },
   "outputs": [],
   "source": [
    "def heuristic(x,y,goal):\n",
    "    distance  = np.sqrt( ((x-goal.x)**2) + ((y-goal.y)**2) )\n",
    "    return distance"
   ]
  },
  {
   "cell_type": "code",
   "execution_count": 72,
   "metadata": {
    "collapsed": true
   },
   "outputs": [],
   "source": [
    "def normalize(theta):\n",
    "    if theta < 0:    \n",
    "        theta = theta + 2.0 * np.pi\n",
    "        return theta\n",
    "    if theta > 2*np.pi:    \n",
    "        theta = theta - 2.0 * np.pi\n",
    "        return theta\n",
    "    else:\n",
    "        return theta "
   ]
  },
  {
   "cell_type": "code",
   "execution_count": 73,
   "metadata": {
    "collapsed": true
   },
   "outputs": [],
   "source": [
    "def rotation(w,t):\n",
    "    y = np.array([[np.cos(t), np.sin(t)], [-np.sin(t), np.cos(t)]])\n",
    "    return np.matmul(w, y)\n",
    "    "
   ]
  },
  {
   "cell_type": "code",
   "execution_count": 74,
   "metadata": {
    "collapsed": true
   },
   "outputs": [],
   "source": [
    "def transformation(w, x, y,t):\n",
    "    p = np.zeros_like(w)\n",
    "    for i in range(p.shape[0]):\n",
    "        p[i][0:2] = w[i][0:2]+[x,y]\n",
    "        \n",
    "    return rotation(p,(t-np.pi/2))\n",
    "    \n",
    "    "
   ]
  },
  {
   "cell_type": "markdown",
   "metadata": {},
   "source": [
    "### Fill Obstacles in the Grid"
   ]
  },
  {
   "cell_type": "code",
   "execution_count": 196,
   "metadata": {
    "collapsed": true
   },
   "outputs": [],
   "source": [
    "grid[9][0:18] = 0\n"
   ]
  },
  {
   "cell_type": "code",
   "execution_count": 197,
   "metadata": {},
   "outputs": [
    {
     "data": {
      "text/plain": [
       "array([[0, 0, 0, 0, 0, 0, 0, 0, 0, 0, 0, 0, 0, 0, 0, 0, 0, 0, 0, 0, 0, 0,\n",
       "        0, 0, 0, 0, 0, 0, 0, 0, 0, 0, 0, 0, 0, 0, 0, 0, 0, 0],\n",
       "       [0, 0, 0, 0, 0, 0, 0, 0, 0, 0, 0, 0, 0, 0, 0, 0, 0, 0, 0, 0, 0, 0,\n",
       "        0, 0, 0, 0, 0, 0, 0, 0, 0, 0, 0, 0, 0, 0, 0, 0, 0, 0],\n",
       "       [0, 0, 0, 0, 0, 0, 0, 0, 0, 0, 0, 0, 0, 0, 0, 0, 0, 0, 0, 0, 0, 0,\n",
       "        0, 0, 0, 0, 0, 0, 0, 0, 0, 0, 0, 0, 0, 0, 0, 0, 0, 0],\n",
       "       [0, 0, 0, 0, 0, 0, 0, 0, 0, 0, 0, 0, 0, 0, 0, 0, 0, 0, 0, 0, 0, 0,\n",
       "        0, 0, 0, 0, 0, 0, 0, 0, 0, 0, 0, 0, 0, 0, 0, 0, 0, 0],\n",
       "       [0, 0, 0, 0, 0, 0, 0, 0, 0, 0, 0, 0, 0, 0, 0, 0, 0, 0, 0, 0, 0, 0,\n",
       "        0, 0, 0, 0, 0, 0, 0, 0, 0, 0, 0, 0, 0, 0, 0, 0, 0, 0],\n",
       "       [0, 0, 0, 0, 0, 0, 0, 0, 0, 0, 0, 0, 0, 0, 0, 0, 0, 0, 0, 0, 0, 0,\n",
       "        0, 0, 0, 0, 0, 0, 0, 0, 0, 0, 0, 0, 0, 0, 0, 0, 0, 0],\n",
       "       [0, 0, 0, 0, 0, 0, 0, 0, 0, 0, 0, 0, 0, 0, 0, 0, 0, 0, 0, 0, 0, 0,\n",
       "        0, 0, 0, 0, 0, 0, 0, 0, 0, 0, 0, 0, 0, 0, 0, 0, 0, 0],\n",
       "       [0, 0, 0, 0, 0, 0, 0, 0, 0, 0, 0, 0, 0, 0, 0, 0, 0, 0, 0, 0, 0, 0,\n",
       "        0, 0, 0, 0, 0, 0, 0, 0, 0, 0, 0, 0, 0, 0, 0, 0, 0, 0],\n",
       "       [0, 0, 0, 0, 0, 0, 0, 0, 0, 0, 0, 0, 0, 0, 0, 0, 0, 0, 0, 0, 0, 0,\n",
       "        0, 0, 0, 0, 0, 0, 0, 0, 0, 0, 0, 0, 0, 0, 0, 0, 0, 0],\n",
       "       [0, 0, 0, 0, 0, 0, 0, 0, 0, 0, 0, 0, 0, 0, 0, 0, 0, 0, 0, 0, 0, 0,\n",
       "        0, 0, 0, 0, 0, 0, 0, 0, 0, 0, 0, 0, 0, 0, 0, 0, 0, 0],\n",
       "       [0, 0, 0, 0, 0, 0, 0, 0, 0, 0, 0, 0, 0, 0, 0, 0, 0, 0, 0, 0, 0, 0,\n",
       "        0, 0, 0, 0, 0, 0, 0, 0, 0, 0, 0, 0, 0, 0, 0, 0, 0, 0],\n",
       "       [0, 0, 0, 0, 0, 0, 0, 0, 0, 0, 0, 0, 0, 0, 0, 0, 0, 0, 0, 0, 0, 0,\n",
       "        0, 0, 0, 0, 0, 0, 0, 0, 0, 0, 0, 0, 0, 0, 0, 0, 0, 0],\n",
       "       [0, 0, 0, 0, 0, 0, 0, 0, 0, 0, 0, 0, 0, 0, 0, 0, 0, 0, 0, 0, 0, 0,\n",
       "        0, 0, 0, 0, 0, 0, 0, 0, 0, 0, 0, 0, 0, 0, 0, 0, 0, 0],\n",
       "       [0, 0, 0, 0, 0, 0, 0, 0, 0, 0, 0, 0, 0, 0, 0, 0, 0, 0, 0, 0, 0, 0,\n",
       "        0, 0, 0, 0, 0, 0, 0, 0, 0, 0, 0, 0, 0, 0, 0, 0, 0, 0],\n",
       "       [0, 0, 0, 0, 0, 0, 0, 0, 0, 0, 0, 0, 0, 0, 0, 0, 0, 0, 0, 0, 0, 0,\n",
       "        0, 0, 0, 0, 0, 0, 0, 0, 0, 0, 0, 0, 0, 0, 0, 0, 0, 0],\n",
       "       [0, 0, 0, 0, 0, 0, 0, 0, 0, 0, 0, 0, 0, 0, 0, 0, 0, 0, 0, 0, 0, 0,\n",
       "        0, 0, 0, 0, 0, 0, 0, 0, 0, 0, 0, 0, 0, 0, 0, 0, 0, 0],\n",
       "       [0, 0, 0, 0, 0, 0, 0, 0, 0, 0, 0, 0, 0, 0, 0, 0, 0, 0, 0, 0, 0, 0,\n",
       "        0, 0, 0, 0, 0, 0, 0, 0, 0, 0, 0, 0, 0, 0, 0, 0, 0, 0],\n",
       "       [0, 0, 0, 0, 0, 0, 0, 0, 0, 0, 0, 0, 0, 0, 0, 0, 0, 0, 0, 0, 0, 0,\n",
       "        0, 0, 0, 0, 0, 0, 0, 0, 0, 0, 0, 0, 0, 0, 0, 0, 0, 0],\n",
       "       [0, 0, 0, 0, 0, 0, 0, 0, 0, 0, 0, 0, 0, 0, 0, 0, 0, 0, 0, 0, 0, 0,\n",
       "        0, 0, 0, 0, 0, 0, 0, 0, 0, 0, 0, 0, 0, 0, 0, 0, 0, 0],\n",
       "       [0, 0, 0, 0, 0, 0, 0, 0, 0, 0, 0, 0, 0, 0, 0, 0, 0, 0, 0, 0, 0, 0,\n",
       "        0, 0, 0, 0, 0, 0, 0, 0, 0, 0, 0, 0, 0, 0, 0, 0, 0, 0],\n",
       "       [0, 0, 0, 0, 0, 0, 0, 0, 0, 0, 0, 0, 0, 0, 0, 0, 0, 0, 0, 0, 0, 0,\n",
       "        0, 0, 0, 0, 0, 0, 0, 0, 0, 0, 0, 0, 0, 0, 0, 0, 0, 0],\n",
       "       [0, 0, 0, 0, 0, 0, 0, 0, 0, 0, 0, 0, 0, 0, 0, 0, 0, 0, 0, 0, 0, 0,\n",
       "        0, 0, 0, 0, 0, 0, 0, 0, 0, 0, 0, 0, 0, 0, 0, 0, 0, 0],\n",
       "       [0, 0, 0, 0, 0, 0, 0, 0, 0, 0, 0, 0, 0, 0, 0, 0, 0, 0, 0, 0, 0, 0,\n",
       "        0, 0, 0, 0, 0, 0, 0, 0, 0, 0, 0, 0, 0, 0, 0, 0, 0, 0],\n",
       "       [0, 0, 0, 0, 0, 0, 0, 0, 0, 0, 0, 0, 0, 0, 0, 0, 0, 0, 0, 0, 0, 0,\n",
       "        0, 0, 0, 0, 0, 0, 0, 0, 0, 0, 0, 0, 0, 0, 0, 0, 0, 0],\n",
       "       [0, 0, 0, 0, 0, 0, 0, 0, 0, 0, 0, 0, 0, 0, 0, 0, 0, 0, 0, 0, 0, 0,\n",
       "        0, 0, 0, 0, 0, 0, 0, 0, 0, 0, 0, 0, 0, 0, 0, 0, 0, 0],\n",
       "       [0, 0, 0, 0, 0, 0, 0, 0, 0, 0, 0, 0, 0, 0, 0, 0, 0, 0, 0, 0, 0, 0,\n",
       "        0, 0, 0, 0, 0, 0, 0, 0, 0, 0, 0, 0, 0, 0, 0, 0, 0, 0],\n",
       "       [0, 0, 0, 0, 0, 0, 0, 0, 0, 0, 0, 0, 0, 0, 0, 0, 0, 0, 0, 0, 0, 0,\n",
       "        0, 0, 0, 0, 0, 0, 0, 0, 0, 0, 0, 0, 0, 0, 0, 0, 0, 0],\n",
       "       [0, 0, 0, 0, 0, 0, 0, 0, 0, 0, 0, 0, 0, 0, 0, 0, 0, 0, 0, 0, 0, 0,\n",
       "        0, 0, 0, 0, 0, 0, 0, 0, 0, 0, 0, 0, 0, 0, 0, 0, 0, 0],\n",
       "       [0, 0, 0, 0, 0, 0, 0, 0, 0, 0, 0, 0, 0, 0, 0, 0, 0, 0, 0, 0, 0, 0,\n",
       "        0, 0, 0, 0, 0, 0, 0, 0, 0, 0, 0, 0, 0, 0, 0, 0, 0, 0],\n",
       "       [0, 0, 0, 0, 0, 0, 0, 0, 0, 0, 0, 0, 0, 0, 0, 0, 0, 0, 0, 0, 0, 0,\n",
       "        0, 0, 0, 0, 0, 0, 0, 0, 0, 0, 0, 0, 0, 0, 0, 0, 0, 0],\n",
       "       [0, 0, 0, 0, 0, 0, 0, 0, 0, 0, 0, 0, 0, 0, 0, 0, 0, 0, 0, 0, 0, 0,\n",
       "        0, 0, 0, 0, 0, 0, 0, 0, 0, 0, 0, 0, 0, 0, 0, 0, 0, 0],\n",
       "       [0, 0, 0, 0, 0, 0, 0, 0, 0, 0, 0, 0, 0, 0, 0, 0, 0, 0, 0, 0, 0, 0,\n",
       "        0, 0, 0, 0, 0, 0, 0, 0, 0, 0, 0, 0, 0, 0, 0, 0, 0, 0],\n",
       "       [0, 0, 0, 0, 0, 0, 0, 0, 0, 0, 0, 0, 0, 0, 0, 0, 0, 0, 0, 0, 0, 0,\n",
       "        0, 0, 0, 0, 0, 0, 0, 0, 0, 0, 0, 0, 0, 0, 0, 0, 0, 0],\n",
       "       [0, 0, 0, 0, 0, 0, 0, 0, 0, 0, 0, 0, 0, 0, 0, 0, 0, 0, 0, 0, 0, 0,\n",
       "        0, 0, 0, 0, 0, 0, 0, 0, 0, 0, 0, 0, 0, 0, 0, 0, 0, 0],\n",
       "       [0, 0, 0, 0, 0, 0, 0, 0, 0, 0, 0, 0, 0, 0, 0, 0, 0, 0, 0, 0, 0, 0,\n",
       "        0, 0, 0, 0, 0, 0, 0, 0, 0, 0, 0, 0, 0, 0, 0, 0, 0, 0],\n",
       "       [0, 0, 0, 0, 0, 0, 0, 0, 0, 0, 0, 0, 0, 0, 0, 0, 0, 0, 0, 0, 0, 0,\n",
       "        0, 0, 0, 0, 0, 0, 0, 0, 0, 0, 0, 0, 0, 0, 0, 0, 0, 0],\n",
       "       [0, 0, 0, 0, 0, 0, 0, 0, 0, 0, 0, 0, 0, 0, 0, 0, 0, 0, 0, 0, 0, 0,\n",
       "        0, 0, 0, 0, 0, 0, 0, 0, 0, 0, 0, 0, 0, 0, 0, 0, 0, 0],\n",
       "       [0, 0, 0, 0, 0, 0, 0, 0, 0, 0, 0, 0, 0, 0, 0, 0, 0, 0, 0, 0, 0, 0,\n",
       "        0, 0, 0, 0, 0, 0, 0, 0, 0, 0, 0, 0, 0, 0, 0, 0, 0, 0],\n",
       "       [0, 0, 0, 0, 0, 0, 0, 0, 0, 0, 0, 0, 0, 0, 0, 0, 0, 0, 0, 0, 0, 0,\n",
       "        0, 0, 0, 0, 0, 0, 0, 0, 0, 0, 0, 0, 0, 0, 0, 0, 0, 0],\n",
       "       [0, 0, 0, 0, 0, 0, 0, 0, 0, 0, 0, 0, 0, 0, 0, 0, 0, 0, 0, 0, 0, 0,\n",
       "        0, 0, 0, 0, 0, 0, 0, 0, 0, 0, 0, 0, 0, 0, 0, 0, 0, 0]])"
      ]
     },
     "execution_count": 197,
     "metadata": {},
     "output_type": "execute_result"
    }
   ],
   "source": [
    "grid"
   ]
  },
  {
   "cell_type": "code",
   "execution_count": 77,
   "metadata": {
    "scrolled": true
   },
   "outputs": [
    {
     "name": "stdout",
     "output_type": "stream",
     "text": [
      "40\n"
     ]
    }
   ],
   "source": [
    "print(len(grid[0]))"
   ]
  },
  {
   "cell_type": "code",
   "execution_count": 78,
   "metadata": {
    "collapsed": true
   },
   "outputs": [],
   "source": [
    "def get_grid_coordinates(x, y):\n",
    "    x = x+x_offset\n",
    "    y = y+y_offset\n",
    "    cell_x = np.floor(x/cell_side)\n",
    "    cell_y = np.floor(y/cell_side)\n",
    "    #grid[cell_y, cell_x] = 2\n",
    "    return cell_x, cell_y\n",
    "    "
   ]
  },
  {
   "cell_type": "code",
   "execution_count": 94,
   "metadata": {
    "collapsed": true
   },
   "outputs": [],
   "source": [
    "def check_occupancy(x, y):\n",
    "    x = x+x_offset\n",
    "    y = y+y_offset\n",
    "    cell_x = np.floor(x/coll_cell_side)\n",
    "    cell_y = np.floor(y/coll_cell_side)\n",
    "    #grid[cell_y, cell_x] = 2\n",
    "    return grid[int(cell_y), int(cell_x)]\n",
    "    "
   ]
  },
  {
   "cell_type": "code",
   "execution_count": 80,
   "metadata": {
    "collapsed": true
   },
   "outputs": [],
   "source": [
    "def delta_t(delta, n, off):\n",
    "    #delta = deg_to_rad(delta)#for convenient debugging\n",
    "    #off = deg_to_rad(off)#for convenient debugging\n",
    "    delta_list = []\n",
    "    delta_list.append(delta)\n",
    "    delta_calc = delta\n",
    "    for i in range(0 ,n):\n",
    "        delta_calc += off   \n",
    "        if delta_calc < max_angle:\n",
    "            delta_list.append(delta_calc)\n",
    "        \n",
    "    delta_calc = delta\n",
    "    for i in range(0 ,n):\n",
    "        delta_calc -= off\n",
    "        if min_angle < delta_calc:\n",
    "            delta_list.append(delta_calc)\n",
    "        \n",
    "    return delta_list"
   ]
  },
  {
   "cell_type": "code",
   "execution_count": 180,
   "metadata": {},
   "outputs": [
    {
     "data": {
      "text/plain": [
       "[30, 26, 22, 18, 14, 10]"
      ]
     },
     "execution_count": 180,
     "metadata": {},
     "output_type": "execute_result"
    }
   ],
   "source": [
    "x = delta_t(30, 5, 4)\n",
    "x"
   ]
  },
  {
   "cell_type": "code",
   "execution_count": 81,
   "metadata": {
    "collapsed": true
   },
   "outputs": [],
   "source": [
    "def checkLimits( x,y ):\n",
    "    \n",
    "    result = True\n",
    "    \n",
    "    if  ( x < -grid_x_m/2 ) | \\\n",
    "        ( y < -grid_y_m/2 ) | \\\n",
    "        ( x > grid_x_m/2 ) | \\\n",
    "        ( y > grid_y_m/2 ):\n",
    "        \n",
    "        result = False\n",
    "    \n",
    "    return result"
   ]
  },
  {
   "cell_type": "code",
   "execution_count": 82,
   "metadata": {
    "collapsed": true
   },
   "outputs": [],
   "source": [
    "state_cell_side = 0.5\n",
    "grid_state_x = np.int( np.ceil(grid_x_m/state_cell_side) )\n",
    "grid_state_y = np.int( np.ceil(grid_y_m/state_cell_side) )\n",
    "\n",
    "NUM_THETA_CELLS = 360\n",
    "\n",
    "\n",
    "x_state_offset = grid_x_m/2.0\n",
    "y_state_offset = grid_y_m/2.0"
   ]
  },
  {
   "cell_type": "code",
   "execution_count": 88,
   "metadata": {
    "collapsed": true
   },
   "outputs": [],
   "source": [
    "def check_closed(x, y, theta):\n",
    "    x = x + x_state_offset\n",
    "    y = y + y_state_offset\n",
    "    \n",
    "    cell_x = np.floor(x/state_cell_side)\n",
    "    cell_y = np.floor(y/state_cell_side)\n",
    "    \n",
    "    cell_theta = np.floor( theta * NUM_THETA_CELLS / (2.0 * np.pi) )\n",
    "    return closed[int(cell_theta)][int(cell_y)][int(cell_x)]\n",
    "    "
   ]
  },
  {
   "cell_type": "code",
   "execution_count": 89,
   "metadata": {
    "collapsed": true
   },
   "outputs": [],
   "source": [
    "def set_closed(x, y, theta):\n",
    "    x = x + x_state_offset\n",
    "    y = y + y_state_offset\n",
    "    \n",
    "    cell_x = np.floor(x/state_cell_side)\n",
    "    cell_y = np.floor(y/state_cell_side)\n",
    "    \n",
    "    cell_theta = np.floor( theta * NUM_THETA_CELLS / (2.0 * np.pi) )\n",
    "   \n",
    "    closed[int(cell_theta)][int(cell_y)][int(cell_x)] = 1\n"
   ]
  },
  {
   "cell_type": "code",
   "execution_count": 283,
   "metadata": {
    "collapsed": true,
    "scrolled": true
   },
   "outputs": [],
   "source": [
    "current_state = state(0.0, 0.0, np.pi/2, 0.0, 0.0, 0.0, 0.0)\n",
    "new_points = np.copy(vehicle_points)\n",
    "#print(new_points)\n",
    "Goal = goal(0.0, 35.0)    \n",
    "closed = [[[0 for x in range(grid_state_x)] for y in range(grid_state_y)] for cell in range(NUM_THETA_CELLS)]"
   ]
  },
  {
   "cell_type": "code",
   "execution_count": 284,
   "metadata": {
    "collapsed": true
   },
   "outputs": [],
   "source": [
    "#print(current_state.x, current_state.y, current_state.theta)\n",
    "\n",
    "path_state = current_state\n",
    "open_list = []\n",
    "path_link = link( path_state, 0 )\n",
    "open_list.append( path_link )\n",
    "\n",
    "trace_list = []\n",
    "trace_link = link( path_state, -1 )\n",
    "trace_list.append( trace_link )\n",
    "\n",
    "\n",
    "path_x = []\n",
    "path_y = []\n",
    "path_h = []\n",
    "\n",
    "path_x.append( current_state.x )\n",
    "path_y.append( current_state.y )\n",
    "\n",
    "\n"
   ]
  },
  {
   "cell_type": "code",
   "execution_count": 285,
   "metadata": {
    "scrolled": true
   },
   "source": [
    "goal_reached = 0\n",
    "grid_goal = 0\n",
    "counter = 0\n",
    "time_out = 45000\n",
    "low_h = 0\n",
    "low_index = 0\n",
    "for count in range(2):\n",
    "    start = time.time()\n",
    "    while ( len(open_list) > 0 ) & (goal_reached == 0) & (counter<time_out) & (grid_goal == 0):\n",
    "        \n",
    "        counter+=1\n",
    "\n",
    "        open_list.sort( key=lambda x:path_link.state.f )\n",
    "        \n",
    "        \n",
    "    \n",
    "\n",
    "        path_link = open_list.pop(0)\n",
    "        \n",
    "        \n",
    "        path_state = path_link.state\n",
    "        \n",
    "        path_index = path_link.index\n",
    "\n",
    "       # print( \"\" )\n",
    "        #print( \"Best path\")\n",
    "        #print( path_state.x, path_state.y, path_state.theta, path_state.f )\n",
    "        path_x.append( path_state.x )\n",
    "        path_y.append( path_state.y )\n",
    "       \n",
    "\n",
    "        #exit = 0\n",
    "\n",
    "        #while exit == 0:\n",
    "\n",
    "        delta_angle = delta_t( path_state.steer, 4, deg_to_rad(5.0) )\n",
    "        \n",
    "        \n",
    "    \n",
    "        #delta_angle = [ 30 * np.pi / 180, 60 * np.pi / 180, 0, -60 * np.pi / 180, -30 * np.pi / 180 ]\n",
    "\n",
    "        #print( delta_angle )\n",
    "\n",
    "        state_list = []\n",
    "\n",
    "        for i in range(len(delta_angle)):\n",
    "            \n",
    "            new_state = transition( path_state, delta_angle[i], 0.1, Goal)\n",
    "            #print(new_state.x, new_state.y, new_state.f, new_state.steer)\n",
    "            \n",
    "            #print( new_state.x, new_state.y, new_state.theta )\n",
    "            \n",
    "            if checkLimits( new_state.x , new_state.y ) == True:\n",
    "                if check_closed( new_state.x, new_state.y, new_state.theta ) == 0:                \n",
    "                    state_list.append(new_state)\n",
    "                    set_closed( new_state.x, new_state.y, new_state.theta )\n",
    "            \n",
    "            else :\n",
    "                    \n",
    "                    \n",
    "                    X = Goal.x-new_state.x \n",
    "                    Y = Goal.y-new_state.y \n",
    "                    angleInRadian = np.arctan2(Y,X)\n",
    "                    \n",
    "                    diff_theta = np.abs(angleInRadian - new_state.theta)\n",
    "                    print(diff_theta)\n",
    "                    if diff_theta< deg_to_rad(30.0):\n",
    "                        print(\"Now\")\n",
    "                        grid_goal = 1\n",
    "                        break\n",
    "        #break\n",
    "                    \n",
    "                    \n",
    "                    \n",
    "                    #print( new_state.x, new_state.y, new_state.steer )\n",
    "        if grid_goal == 1 : \n",
    "            break\n",
    "\n",
    "        collision_free = []\n",
    "\n",
    "        for i in range(len(state_list)):\n",
    "\n",
    "            check = 0\n",
    "            #new_points = transformation(vehicle_points, state_list[i].x, state_list[i].y, state_list[i].theta)\n",
    "            new_points = [ [ state_list[i].x, state_list[i].y ] ]\n",
    "            \n",
    "            for point in new_points :\n",
    "                if checkLimits(point[0],point[1]) == True:\n",
    "\n",
    "                    get_x, get_y = get_grid_coordinates(point[0], point[1])\n",
    "                    \n",
    "                    check = check_occupancy(point[0], point[1])\n",
    "                   \n",
    "                else :\n",
    "                    \n",
    "                    \n",
    "                    X = state_list[i].x - Goal.x\n",
    "                    Y = state_list[i].y - Goal.y \n",
    "                    angleInRadian = np.arctan2(Y,X)\n",
    "                    print(angleInRadian)\n",
    "                    diff_theta = np.abs(angleInRadian - state_list[i].theta)\n",
    "                    if diff_theta< deg_to_rad(30.0):\n",
    "                        grid_goal = 1                    \n",
    "                    \n",
    "                    check = 1\n",
    "\n",
    "                if check == 1:\n",
    "                    \n",
    "                    \n",
    "                    break\n",
    "\n",
    "            if check == 0:\n",
    "                collision_free.append(state_list[i])\n",
    "                \n",
    "\n",
    "        if( len(collision_free) > 0 ) & (grid_goal == 0):\n",
    "\n",
    "            for nstate in collision_free:\n",
    "                \n",
    "                #print( nstate.x, nstate.y, nstate.theta )\n",
    "                new_link = link( nstate, len(trace_list) )\n",
    "                open_list.append( new_link )\n",
    "                \n",
    "                \n",
    "                \n",
    "                trace_link = link( nstate, path_index )\n",
    "                trace_list.append( trace_link )\n",
    "                \n",
    "                if (low_h == 0) :\n",
    "                    low_h =  nstate.h \n",
    "                    low_index = len(trace_list) - 1\n",
    "                    \n",
    "                elif low_h > nstate.h:\n",
    "                    low_h =  nstate.h \n",
    "                    low_index = len(trace_list) - 1\n",
    "                            \n",
    "                            \n",
    "                            \n",
    "                          \n",
    "                \n",
    "                if np.sqrt((nstate.x - Goal.x)**2 + (nstate.y - Goal.y)**2) < 0.5:\n",
    "                    goal_reached = 1\n",
    "                    path_x.append( nstate.x )\n",
    "                    path_y.append( nstate.y )\n",
    "                    print( \"goal\")\n",
    "                    end = time.time()\n",
    "                    print(\"Process Time\", end - start)\n",
    "\n",
    "               \n",
    "                    \n",
    "                    \n",
    "\n",
    "\n",
    "            #path_state = collision_free[0]\n",
    "\n",
    "            #if checkLimits( path_state ) == True:\n",
    "            #    path_x.append( path_state.x )\n",
    "            #    path_y.append( path_state.y )\n",
    "\n",
    "                #print( path_state.x, path_state.y )\n",
    "\n",
    "\n",
    "    #print( \"\" )\n",
    "    #print( \"Ostates\")\n",
    "    #for ostate in open_list:\n",
    "\n",
    "       # print( ostate.x, ostate.y, ostate.theta, ostate.f )\n",
    "\n",
    "plt.scatter( path_x, path_y )\n",
    "plt.axis('equal')\n",
    "plt.show()\n",
    "        \n",
    "    \n",
    "#print(current_state.x, current_state.y, current_state.theta)\n",
    "#print(new_points)\n",
    "#grid_v = np.copy(grid)\n",
    "\n",
    "#    if check == 1:\n",
    "#        break\n",
    "\n",
    "#if check == 0:\n",
    "#    print(grid_v)\n",
    "\n",
    "#print(grid_v)\n",
    "\n",
    "#plt.scatter(px,py)\n",
    "\n",
    "\n",
    "\n",
    "\n",
    "\n",
    "\n",
    "\n",
    "\n",
    "\n",
    "\n",
    "\n",
    "\n",
    "\n",
    "\n",
    "\n",
    "\n",
    "\n",
    "\n",
    "#plt.show()"
   ]
  },
  {
   "cell_type": "code",
   "execution_count": 245,
   "metadata": {},
   "outputs": [
    {
     "name": "stdout",
     "output_type": "stream",
     "text": [
      "0.2617993877991494\n",
      "0.0\n"
     ]
    },
    {
     "data": {
      "image/png": "iVBORw0KGgoAAAANSUhEUgAAAXQAAAD8CAYAAABn919SAAAABHNCSVQICAgIfAhkiAAAAAlwSFlz\nAAALEgAACxIB0t1+/AAAADl0RVh0U29mdHdhcmUAbWF0cGxvdGxpYiB2ZXJzaW9uIDIuMS4wLCBo\ndHRwOi8vbWF0cGxvdGxpYi5vcmcvpW3flQAAEYRJREFUeJzt3X+MZWV9x/HPh5kBZrHs0DC23YF0\nINFtFaxDRoKSWstilyqFjWkaTDDENt3UtAjEroKmpf1L4xorSZsmG0DbQDB12a7EWBeq0qZJ2XZ2\nB8uPdYvBCju7lmvCqOluu7++/ePeJcPsPfPrnHvPPc/zfiWEmWfuzv0mDJ89832+5zmOCAEAmu+c\nugsAAFSDQAeARBDoAJAIAh0AEkGgA0AiCHQASASBDgCJINABIBEEOgAkYrifb3bxxRfH5ORkP98S\nABpv3759P4qI8eVe19dAn5yc1MzMTD/fEgAaz/YPVvI6Wi4AkAgCHQASQaADQCIIdABIxLKBbvtB\n26/YfnbB2s/afsL2C51/X9TbMgEAy1nJFfqXJN2waO1uSd+MiDdJ+mbncwBAjZYdW4yIf7Y9uWj5\nZknv6Xz8N5KelPSJCusCard7dk7b9xzU4flj2jA2qm2bN2rL1ETdZQGF1jqH/nMRcUSSIuKI7TdW\nWBNQu92zc7pn1zM6duKUJGlu/pju2fWMJBHqGFg93xS1vdX2jO2ZVqvV67cDKvFnjz33WpifcezE\nKW3fc7CmioDlrTXQ/9v2L0hS59+vFL0wInZExHRETI+PL3vnKlC73bNzmj92ouvXDs8f63M1wMqt\nNdAfk3Rb5+PbJH21mnKA+i11Fb5hbLSPlQCrs5KxxUck/aukjbYP2f49SZ+R9F7bL0h6b+dzIAlL\nXYVv27yxj5UAq7OSKZcPFnxpU8W1AANh/ehI15bLupFz2BDFQONOUWARu/v6eSND/S0EWCUCHVhk\n/mj3DdGidWBQEOjAIutHR1a1DgwKAh1YpKjlUrQODAoCHVjkVVouaCgCHVhg9+ycii7EmUHHoCPQ\ngQW27zmo6LJuMYOOwUegAwvMFdxUFOJQLgw+Ah1YYKhg57NoHRgkBDqwwKno1nApXgcGCYEOdCy1\nITrBhigagEAHOtgQRdMR6EAHG6JoOgIdEO0WpIFAB9R+5BztFjQdgY7sLfXIOdotaBICHdlb6pFz\ntFvQJAQ6sle0GSrRbkGzEOjI2lKboRetG6HdgkYh0JG1pWbP7/2tt/a7HKAUAh1ZY/YcKSHQkS1m\nz5EaAh3ZYvYcqSHQkSVmz5EiAh1ZYvYcKSLQkSVmz5EiAh3ZYfYcqSLQkR1mz5EqAh3ZOczsORJF\noCM760dHuq6PFawDTUGgIzvHT57quu6ixjrQEKUC3fZdtp+z/aztR2yfX1VhQC/snp3T0ROnu35t\n/mj3uXSgKdYc6LYnJH1U0nREXCFpSNItVRUG9MJS8+cbmD9Hw5VtuQxLGrU9LGmdpMPlSwJ6p2hD\nVGL+HM235kCPiDlJn5P0kqQjkn4cEY9XVRjQC0UboutGzmHCBY1XpuVykaSbJV0maYOkC2zf2uV1\nW23P2J5ptVprrxSoQNHG53kjQ/0tBOiBMi2X6yV9PyJaEXFC0i5J71r8oojYERHTETE9Pj5e4u2A\n8l4t2PhkQxQpKBPoL0m6xvY625a0SdKBasoCqrfULf9siCIFZXroeyXtlLRf0jOd77WjorqAyi11\nyz8bokjBcJk/HBH3Srq3olqAnuKWf6SOO0WRDW75R+oIdGSjaMKFW/6RCgId2SiaZGHCBakg0JGN\nopZL0TrQNAQ6skHLBakj0JGNopuKitaBpiHQkY2hgkvxonWgaQh0ZONUdLutqHgdaBoCHdkomjdn\nDh2pINCRDTZFkToCHdlgDh2pI9CRDebQkToCHdmg5YLUEejIBi0XpI5ARzZouSB1BDqyQcsFqSPQ\nkQ1aLkgdgY5s0HJB6gh0ZIOWC1JHoCMbnLaI1BHoyAanLSJ1BDqywWmLSB2Bjmxw2iJSR6AjG2yK\nInUEOrJRNG/OpihSQaAjGxvGRruuW9Lu2bn+FgP0AIGObGzbvFHduishafueg/0uB6gcgY5sbJma\nUNE8y+H5Y32tBegFAh1ZKZpo4fZ/pIBAR1aYdEHKCHRkhRMXkbJSgW57zPZO29+1fcD2O6sqDOgF\nTlxEyoZL/vn7JH0jIn7b9rmS1lVQE9AzRa2V4ydP9bcQoAfWfIVu+0JJ75b0gCRFxPGImK+qMKAX\nilorR0+cZhYdjVem5XK5pJakL9qetX2/7QsqqgvoiaKbiyRm0dF8ZQJ9WNJVkv46IqYk/Y+kuxe/\nyPZW2zO2Z1qtVom3A8rbtnlj4deYRUfTlQn0Q5IORcTezuc71Q7414mIHRExHRHT4+PjJd4OKG/L\n1ITWjXT/sWdjFE235kCPiB9Ketn2mUueTZKer6QqoIfOGxnqus4sOpqu7JTL7ZIe7ky4vCjpw+VL\nAnqLWXSkqlSgR8TTkqYrqgXoi/WjI5o/dnZ403JB03GnKLLD7f9IFYGO7NByQaoIdGSH2/+RKgId\n2aHlglQR6MgOLRekikBHdmi5IFUEOrJDywWpItCRnVcLWitF60BTEOjIzlDBpXjROtAUBDqycypi\nVetAUxDoyM5YweZn0TrQFAQ6ssOmKFJFoCM7RZufzKGj6Qh0ZGX37JyKLsSXejwd0AQEOrKyfc9B\nddv6tJZ+PB3QBAQ6sjJX8NzQUPvxdECTEejIxlLtlgnaLUgAgY5s0G5B6gh0ZIN2C1JHoCMb3PKP\n1BHoyAa3/CN1BDqywIYockCgIwtsiCIHBDqycJgNUWSAQEcWih4vxwmLSAmBjixwwiJyQKAjC5yw\niBwQ6EgeJywiFwQ6kseEC3JBoCN53PKPXBDoSB63/CMXBDqSxy3/yEXpQLc9ZHvW9teqKAioWtGs\nOTPoSE0VV+h3SDpQwfcBeoIZdOSiVKDbvkTS+yXdX005QPWKZs2ZQUdqyl6hf0HSxyWdLnqB7a22\nZ2zPtFqtkm8HrF7Rbf9F60BTrTnQbd8o6ZWI2LfU6yJiR0RMR8T0+Pj4Wt8OWDNaLshFmSv0ayXd\nZPu/JH1Z0nW2H6qkKqBCtFyQizUHekTcExGXRMSkpFskfSsibq2sMqAitFyQC+bQkTxaLsjFcBXf\nJCKelPRkFd8LqBotF+SCK3Qkj5YLckGgI3m0XJALAh3Jo+WCXBDoSB4tF+SCQEfyaLkgFwQ6klf0\nPNGidaCpCHQkjwdcIBcEOpLHAy6QCwIdyeMBF8gFgY7ksSmKXBDoSB5z6MgFgY7kMYeOXBDoSB4t\nF+SCQEfyaLkgFwQ6kkfLBbkg0JG8otbK8ZOn+lsI0GMEOpJX1Fo5euK0ds/O9bkaoHcIdCRvw9ho\n4de27znYx0qA3iLQkbxtmzcWfu3w/LE+VgL0FoGO5G2ZmtC6ke4/6myMIiUEOrJw3shQ13Vm0ZES\nAh1ZKNoY5Ux0pIRARxaKNkYtMemCZBDoyMK2zRvVrbsSYtIF6SDQkYUtUxMqepwFky5IBYGObBQ9\n0IJJF6SCQEc2OHURqSPQkQ0mXZA6Ah3ZYNIFqSPQkQ0mXZA6Ah3ZWGrSZY5JFyRgzYFu+1Lb37Z9\nwPZztu+osjCgF4YKdkCL1oEmGS7xZ09K+lhE7Lf9M5L22X4iIp6vqDagcqei+zV60TrQJGu+Qo+I\nIxGxv/PxTyUdkDRRVWFALxTNohetA01SSQ/d9qSkKUl7u3xtq+0Z2zOtVquKtwPWjFl0pKx0oNt+\ng6RHJd0ZET9Z/PWI2BER0xExPT4+XvbtgFKKZtGL1oEmKRXotkfUDvOHI2JXNSUBvVN0mz+3/yMF\nZaZcLOkBSQci4vPVlQT0Di0XpKzMFfq1kj4k6TrbT3f+eV9FdQE9QcsFKVvz2GJE/IvU9cY7YGCt\nHx3R/LGzw5uWC1LAnaLICi0XpIxAR1aKTlak5YIUEOjIxu7ZucIeYdFJjECTEOjIxvY9B7sezmW1\nT2IEmo5ARzaKTlQMtU9iBJqOQEc2OGkRqSPQkQ1OWkTqCHRkg5MWkToCHdlgBh2pI9CRDW77R+oI\ndGSDkxaROgId2aDlgtQR6MgGLRekjkBHNmi5IHUEOrJBywWpI9CRDVouSB2BjmzQckHqCHRkg5YL\nUkegIxtFD7coWgeahkBHNjhtEakj0JENTltE6gh0ZIPTFpE6Ah3ZYFMUqSPQkQ3m0JE6Ah3ZYA4d\nqSPQkQ1aLkgdgY5s0HJB6gh0ZIOWC1JHoCMbtFyQOgId2aDlgtQR6MgGLRekrlSg277B9kHb37N9\nd1VFAb1AywWpW3Og2x6S9FeSflPSWyR90PZbqioMqBotF6SuzBX61ZK+FxEvRsRxSV+WdHM1ZQHV\n2zA2uqp1oGnKBPqEpJcXfH6os/Y6trfanrE902q1SrwdUM62zRs1OjL0urXRkSFt27yxpoqAapUJ\n9G6dx7POIY2IHRExHRHT4+PjJd4OKGfL1IQ+/YErNTE2KkuaGBvVpz9wpbZMnXUdAjTScIk/e0jS\npQs+v0TS4XLlAL21ZWqCAEeyylyh/7ukN9m+zPa5km6R9Fg1ZQEAVmvNV+gRcdL2H0naI2lI0oMR\n8VxllQEAVqVMy0UR8XVJX6+oFgBACdwpCgCJINABIBGOPj7x3HZL0g8kXSzpR31749Ub9Pqkwa+R\n+sqhvnJSq+8XI2LZue++Bvprb2rPRMR03994hQa9Pmnwa6S+cqivnFzro+UCAIkg0AEgEXUF+o6a\n3nelBr0+afBrpL5yqK+cLOurpYcOAKgeLRcASERtgW777bafsv1053jdq+uqpYjt2ztPZHrO9mfr\nrqcb239sO2xfXHctC9nebvu7tv/D9t/bHqu7Jmmwn7Jl+1Lb37Z9oPMzd0fdNXVje8j2rO2v1V1L\nN7bHbO/s/PwdsP3OumtayPZdnf++z9p+xPb5VX3vOq/QPyvpzyPi7ZL+tPP5wLD962o/sONtEfFW\nSZ+ruaSz2L5U0nslvVR3LV08IemKiHibpP+UdE/N9TThKVsnJX0sIn5Z0jWS/nDA6jvjDkkH6i5i\nCfdJ+kZE/JKkX9EA1Wp7QtJHJU1HxBVqn4N1S1Xfv85AD0kXdj5er8E7evcjkj4TEf8nSRHxSs31\ndPMXkj6uLufQ1y0iHo+Ik51Pn1L7eOW6DfRTtiLiSETs73z8U7WDaKDO+rV9iaT3S7q/7lq6sX2h\npHdLekCSIuJ4RMzXW9VZhiWN2h6WtE4VZl+dgX6npO22X1b76rf2K7hF3izpV23vtf1Ptt9Rd0EL\n2b5J0lxEfKfuWlbgdyX9Q91FaIVP2RoEticlTUnaW28lZ/mC2hcRp+supMDlklqSvthpC91v+4K6\nizojIubUzruXJB2R9OOIeLyq71/qtMXl2P5HST/f5UufkrRJ0l0R8ajt31H7b9Tre1nPKusblnSR\n2r/6vkPS39m+PPo4FrRMfZ+U9Bv9qqWbpeqLiK92XvMptVsJD/eztgIrespW3Wy/QdKjku6MiJ/U\nXc8Ztm+U9EpE7LP9nrrrKTAs6SpJt0fEXtv3Sbpb0p/UW1ab7YvU/q3wMknzkr5i+9aIeKiK79/T\nQI+IwoC2/bdq9+Ik6Suq4Ve4Zer7iKRdnQD/N9un1T5/oW8PRi2qz/aVav9AfMe21G5n7Ld9dUT8\nsO76zrB9m6QbJW3q51+ESxj4p2zZHlE7zB+OiF1117PItZJusv0+SedLutD2QxFxa811LXRI0qGI\nOPObzU61A31QXC/p+xHRkiTbuyS9S1IlgV5ny+WwpF/rfHydpBdqrKWb3WrXJdtvlnSuBuSwn4h4\nJiLeGBGTETGp9g/xVf0M8+XYvkHSJyTdFBFH666nY6CfsuX2384PSDoQEZ+vu57FIuKeiLik8zN3\ni6RvDViYq/P/wMu2zzz5e5Ok52ssabGXJF1je13nv/cmVbhp29Mr9GX8vqT7OhsD/ytpa421dPOg\npAdtPyvpuKTbBuQqsyn+UtJ5kp7o/BbxVET8QZ0FNeApW9dK+pCkZ2w/3Vn7ZOdBMli52yU93PlL\n+0VJH665ntd02kA7Je1XuxU5qwrvGuVOUQBIBHeKAkAiCHQASASBDgCJINABIBEEOgAkgkAHgEQQ\n6ACQCAIdABLx/3DZP5bNntu8AAAAAElFTkSuQmCC\n",
      "text/plain": [
       "<matplotlib.figure.Figure at 0x7fe1c32c9cc0>"
      ]
     },
     "metadata": {},
     "output_type": "display_data"
    }
   ],
   "source": [
    "if grid_goal ==1:\n",
    "        fpath_x = []\n",
    "        fpath_y = []\n",
    "        \n",
    "        curr_trace = trace_list[path_index]\n",
    "        \n",
    "        while( curr_trace.index != -1 ):\n",
    "            fpath_x.append( curr_trace.state.x )\n",
    "            fpath_y.append( curr_trace.state.y )\n",
    "            next_trace = curr_trace\n",
    "            curr_trace = trace_list[ curr_trace.index ]\n",
    "            \n",
    "        plt.scatter( fpath_x, fpath_y )\n",
    "        print(next_trace.state.steer)\n",
    "        print(curr_trace.state.steer)\n",
    "        plt.axis( 'equal' )\n",
    "        plt.show()\n",
    "    \n",
    "    "
   ]
  },
  {
   "cell_type": "code",
   "execution_count": null,
   "metadata": {
    "collapsed": true
   },
   "outputs": [],
   "source": []
  },
  {
   "cell_type": "code",
   "execution_count": 243,
   "metadata": {},
   "outputs": [],
   "source": [
    "if goal_reached == 1 :\n",
    "        fpath_x = []\n",
    "        fpath_y = []\n",
    "        \n",
    "        curr_trace = trace_list[-1]\n",
    "        \n",
    "        while( curr_trace.index != -1 ):\n",
    "            fpath_x.append( curr_trace.state.x )\n",
    "            fpath_y.append( curr_trace.state.y )\n",
    "            \n",
    "            curr_trace = trace_list[ curr_trace.index ]\n",
    "            \n",
    "        plt.scatter( fpath_x, fpath_y )\n",
    "        plt.axis( 'equal' )\n",
    "        plt.show()\n",
    "    "
   ]
  },
  {
   "cell_type": "code",
   "execution_count": 244,
   "metadata": {},
   "outputs": [],
   "source": [
    "if (goal_reached == 0) & (grid_goal == 0) :\n",
    "        fpath_x = []\n",
    "        fpath_y = []\n",
    "        fpath_theta = []\n",
    "        \n",
    "        curr_trace = trace_list[low_index]\n",
    "        \n",
    "        while( curr_trace.index != -1 ):\n",
    "            fpath_x.append( curr_trace.state.x )\n",
    "            fpath_y.append( curr_trace.state.y )\n",
    "            fpath_theta.append(curr_trace.state.theta)\n",
    "            \n",
    "            curr_trace = trace_list[ curr_trace.index ]\n",
    "            \n",
    "            \n",
    "\n",
    "\n",
    "\n",
    "        plt.scatter( fpath_x, fpath_y )\n",
    "        plt.axis( 'equal' )\n",
    "        plt.show()\n",
    "\n",
    "        "
   ]
  }
 ],
 "metadata": {
  "kernelspec": {
   "display_name": "Python 3",
   "language": "python",
   "name": "python3"
  },
  "language_info": {
   "codemirror_mode": {
    "name": "ipython",
    "version": 3
   },
   "file_extension": ".py",
   "mimetype": "text/x-python",
   "name": "python",
   "nbconvert_exporter": "python",
   "pygments_lexer": "ipython3",
   "version": "3.6.3"
  },
  "widgets": {
   "state": {},
   "version": "1.1.2"
  }
 },
 "nbformat": 4,
 "nbformat_minor": 2
}{
 "cells": [
  {
   "cell_type": "markdown",
   "metadata": {},
   "source": [
    "### Import the necessary packages"
   ]
  },
  {
   "cell_type": "code",
   "execution_count": 57,
   "metadata": {
    "collapsed": true
   },
   "outputs": [],
   "source": [
    "import numpy as np\n",
    "import matplotlib.pyplot as plt\n",
    "%matplotlib inline\n",
    "import time"
   ]
  },
  {
   "cell_type": "markdown",
   "metadata": {},
   "source": [
    "### Vehicle Parameters"
   ]
  },
  {
   "cell_type": "code",
   "execution_count": 58,
   "metadata": {
    "collapsed": true
   },
   "outputs": [],
   "source": [
    "SPEED = 1.4\n",
    "LENGTH = 1.5\n"
   ]
  },
  {
   "cell_type": "code",
   "execution_count": 59,
   "metadata": {
    "collapsed": true
   },
   "outputs": [],
   "source": [
    "vehicle_points = np.array([[-1.1, 2],[0, 2],[1.1, 2],[-1.1, 0],[0, 0],[1.1,0],[-1.1, -2],[0, -2],[1.1, -2]])"
   ]
  },
  {
   "cell_type": "code",
   "execution_count": 60,
   "metadata": {
    "collapsed": true
   },
   "outputs": [],
   "source": [
    "max_angle = 0.785398\n",
    "min_angle = -0.785398"
   ]
  },
  {
   "cell_type": "markdown",
   "metadata": {},
   "source": [
    "### State Model"
   ]
  },
  {
   "cell_type": "code",
   "execution_count": 61,
   "metadata": {
    "collapsed": true
   },
   "outputs": [],
   "source": [
    "class state:\n",
    "\n",
    "    def __init__(self, x, y, theta, g,f,h, steer):\n",
    "        self.x = x\n",
    "        self.y = y\n",
    "        self.theta = theta\n",
    "        self.g = g\n",
    "        self.f = f\n",
    "        self.h = h\n",
    "        self.steer = steer\n"
   ]
  },
  {
   "cell_type": "markdown",
   "metadata": {},
   "source": [
    "### State Transition"
   ]
  },
  {
   "cell_type": "code",
   "execution_count": 203,
   "metadata": {
    "collapsed": true
   },
   "outputs": [],
   "source": [
    "def transition(v_state, delta, dt, goal):\n",
    "   \n",
    "    # ---Begin Vehicle model---\n",
    "    #delta_rad = deg_to_rad(delta)\n",
    "    omega = SPEED/LENGTH * np.tan(delta)\n",
    "    \n",
    "    \n",
    "    d_x = SPEED * np.cos(v_state.theta) * dt\n",
    "    d_y = SPEED * np.sin(v_state.theta) * dt\n",
    "    \n",
    "    next_x = v_state.x + d_x\n",
    "    next_y = v_state.y + d_y\n",
    "    next_theta = normalize(v_state.theta + (omega*dt)) \n",
    "\n",
    "    # ---End Vehicle model---\n",
    "    next_g = v_state.g + np.sqrt( d_x * d_x +  d_y * d_y )\n",
    "    \n",
    "    next_h = heuristic(next_x, next_y, goal)\n",
    "    \n",
    "    next_f = next_g + next_h  + np.abs(delta) * 0.1\n",
    "        \n",
    "    next_steer = delta\n",
    "\n",
    "    # Create a new State object with all of the \"next\" values.\n",
    "    new_state = state(next_x, next_y, next_theta, next_g, next_f, next_h, next_steer)\n",
    "\n",
    "    return new_state"
   ]
  },
  {
   "cell_type": "markdown",
   "metadata": {},
   "source": [
    "### Grid Resolution"
   ]
  },
  {
   "cell_type": "code",
   "execution_count": 64,
   "metadata": {
    "collapsed": true
   },
   "outputs": [],
   "source": [
    "grid_x_m = 20\n",
    "grid_y_m = 20\n",
    "\n",
    "coll_cell_side = 0.5\n",
    "grid_coll_x = np.int( np.ceil(grid_x_m/coll_cell_side) )\n",
    "grid_coll_y = np.int( np.ceil(grid_y_m/coll_cell_side) )\n",
    "\n",
    "grid = np.zeros((grid_coll_x,grid_coll_y), np.int)"
   ]
  },
  {
   "cell_type": "code",
   "execution_count": 65,
   "metadata": {},
   "outputs": [
    {
     "data": {
      "text/plain": [
       "array([[0, 0, 0, 0, 0, 0, 0, 0, 0, 0, 0, 0, 0, 0, 0, 0, 0, 0, 0, 0, 0, 0,\n",
       "        0, 0, 0, 0, 0, 0, 0, 0, 0, 0, 0, 0, 0, 0, 0, 0, 0, 0],\n",
       "       [0, 0, 0, 0, 0, 0, 0, 0, 0, 0, 0, 0, 0, 0, 0, 0, 0, 0, 0, 0, 0, 0,\n",
       "        0, 0, 0, 0, 0, 0, 0, 0, 0, 0, 0, 0, 0, 0, 0, 0, 0, 0],\n",
       "       [0, 0, 0, 0, 0, 0, 0, 0, 0, 0, 0, 0, 0, 0, 0, 0, 0, 0, 0, 0, 0, 0,\n",
       "        0, 0, 0, 0, 0, 0, 0, 0, 0, 0, 0, 0, 0, 0, 0, 0, 0, 0],\n",
       "       [0, 0, 0, 0, 0, 0, 0, 0, 0, 0, 0, 0, 0, 0, 0, 0, 0, 0, 0, 0, 0, 0,\n",
       "        0, 0, 0, 0, 0, 0, 0, 0, 0, 0, 0, 0, 0, 0, 0, 0, 0, 0],\n",
       "       [0, 0, 0, 0, 0, 0, 0, 0, 0, 0, 0, 0, 0, 0, 0, 0, 0, 0, 0, 0, 0, 0,\n",
       "        0, 0, 0, 0, 0, 0, 0, 0, 0, 0, 0, 0, 0, 0, 0, 0, 0, 0],\n",
       "       [0, 0, 0, 0, 0, 0, 0, 0, 0, 0, 0, 0, 0, 0, 0, 0, 0, 0, 0, 0, 0, 0,\n",
       "        0, 0, 0, 0, 0, 0, 0, 0, 0, 0, 0, 0, 0, 0, 0, 0, 0, 0],\n",
       "       [0, 0, 0, 0, 0, 0, 0, 0, 0, 0, 0, 0, 0, 0, 0, 0, 0, 0, 0, 0, 0, 0,\n",
       "        0, 0, 0, 0, 0, 0, 0, 0, 0, 0, 0, 0, 0, 0, 0, 0, 0, 0],\n",
       "       [0, 0, 0, 0, 0, 0, 0, 0, 0, 0, 0, 0, 0, 0, 0, 0, 0, 0, 0, 0, 0, 0,\n",
       "        0, 0, 0, 0, 0, 0, 0, 0, 0, 0, 0, 0, 0, 0, 0, 0, 0, 0],\n",
       "       [0, 0, 0, 0, 0, 0, 0, 0, 0, 0, 0, 0, 0, 0, 0, 0, 0, 0, 0, 0, 0, 0,\n",
       "        0, 0, 0, 0, 0, 0, 0, 0, 0, 0, 0, 0, 0, 0, 0, 0, 0, 0],\n",
       "       [0, 0, 0, 0, 0, 0, 0, 0, 0, 0, 0, 0, 0, 0, 0, 0, 0, 0, 0, 0, 0, 0,\n",
       "        0, 0, 0, 0, 0, 0, 0, 0, 0, 0, 0, 0, 0, 0, 0, 0, 0, 0],\n",
       "       [0, 0, 0, 0, 0, 0, 0, 0, 0, 0, 0, 0, 0, 0, 0, 0, 0, 0, 0, 0, 0, 0,\n",
       "        0, 0, 0, 0, 0, 0, 0, 0, 0, 0, 0, 0, 0, 0, 0, 0, 0, 0],\n",
       "       [0, 0, 0, 0, 0, 0, 0, 0, 0, 0, 0, 0, 0, 0, 0, 0, 0, 0, 0, 0, 0, 0,\n",
       "        0, 0, 0, 0, 0, 0, 0, 0, 0, 0, 0, 0, 0, 0, 0, 0, 0, 0],\n",
       "       [0, 0, 0, 0, 0, 0, 0, 0, 0, 0, 0, 0, 0, 0, 0, 0, 0, 0, 0, 0, 0, 0,\n",
       "        0, 0, 0, 0, 0, 0, 0, 0, 0, 0, 0, 0, 0, 0, 0, 0, 0, 0],\n",
       "       [0, 0, 0, 0, 0, 0, 0, 0, 0, 0, 0, 0, 0, 0, 0, 0, 0, 0, 0, 0, 0, 0,\n",
       "        0, 0, 0, 0, 0, 0, 0, 0, 0, 0, 0, 0, 0, 0, 0, 0, 0, 0],\n",
       "       [0, 0, 0, 0, 0, 0, 0, 0, 0, 0, 0, 0, 0, 0, 0, 0, 0, 0, 0, 0, 0, 0,\n",
       "        0, 0, 0, 0, 0, 0, 0, 0, 0, 0, 0, 0, 0, 0, 0, 0, 0, 0],\n",
       "       [0, 0, 0, 0, 0, 0, 0, 0, 0, 0, 0, 0, 0, 0, 0, 0, 0, 0, 0, 0, 0, 0,\n",
       "        0, 0, 0, 0, 0, 0, 0, 0, 0, 0, 0, 0, 0, 0, 0, 0, 0, 0],\n",
       "       [0, 0, 0, 0, 0, 0, 0, 0, 0, 0, 0, 0, 0, 0, 0, 0, 0, 0, 0, 0, 0, 0,\n",
       "        0, 0, 0, 0, 0, 0, 0, 0, 0, 0, 0, 0, 0, 0, 0, 0, 0, 0],\n",
       "       [0, 0, 0, 0, 0, 0, 0, 0, 0, 0, 0, 0, 0, 0, 0, 0, 0, 0, 0, 0, 0, 0,\n",
       "        0, 0, 0, 0, 0, 0, 0, 0, 0, 0, 0, 0, 0, 0, 0, 0, 0, 0],\n",
       "       [0, 0, 0, 0, 0, 0, 0, 0, 0, 0, 0, 0, 0, 0, 0, 0, 0, 0, 0, 0, 0, 0,\n",
       "        0, 0, 0, 0, 0, 0, 0, 0, 0, 0, 0, 0, 0, 0, 0, 0, 0, 0],\n",
       "       [0, 0, 0, 0, 0, 0, 0, 0, 0, 0, 0, 0, 0, 0, 0, 0, 0, 0, 0, 0, 0, 0,\n",
       "        0, 0, 0, 0, 0, 0, 0, 0, 0, 0, 0, 0, 0, 0, 0, 0, 0, 0],\n",
       "       [0, 0, 0, 0, 0, 0, 0, 0, 0, 0, 0, 0, 0, 0, 0, 0, 0, 0, 0, 0, 0, 0,\n",
       "        0, 0, 0, 0, 0, 0, 0, 0, 0, 0, 0, 0, 0, 0, 0, 0, 0, 0],\n",
       "       [0, 0, 0, 0, 0, 0, 0, 0, 0, 0, 0, 0, 0, 0, 0, 0, 0, 0, 0, 0, 0, 0,\n",
       "        0, 0, 0, 0, 0, 0, 0, 0, 0, 0, 0, 0, 0, 0, 0, 0, 0, 0],\n",
       "       [0, 0, 0, 0, 0, 0, 0, 0, 0, 0, 0, 0, 0, 0, 0, 0, 0, 0, 0, 0, 0, 0,\n",
       "        0, 0, 0, 0, 0, 0, 0, 0, 0, 0, 0, 0, 0, 0, 0, 0, 0, 0],\n",
       "       [0, 0, 0, 0, 0, 0, 0, 0, 0, 0, 0, 0, 0, 0, 0, 0, 0, 0, 0, 0, 0, 0,\n",
       "        0, 0, 0, 0, 0, 0, 0, 0, 0, 0, 0, 0, 0, 0, 0, 0, 0, 0],\n",
       "       [0, 0, 0, 0, 0, 0, 0, 0, 0, 0, 0, 0, 0, 0, 0, 0, 0, 0, 0, 0, 0, 0,\n",
       "        0, 0, 0, 0, 0, 0, 0, 0, 0, 0, 0, 0, 0, 0, 0, 0, 0, 0],\n",
       "       [0, 0, 0, 0, 0, 0, 0, 0, 0, 0, 0, 0, 0, 0, 0, 0, 0, 0, 0, 0, 0, 0,\n",
       "        0, 0, 0, 0, 0, 0, 0, 0, 0, 0, 0, 0, 0, 0, 0, 0, 0, 0],\n",
       "       [0, 0, 0, 0, 0, 0, 0, 0, 0, 0, 0, 0, 0, 0, 0, 0, 0, 0, 0, 0, 0, 0,\n",
       "        0, 0, 0, 0, 0, 0, 0, 0, 0, 0, 0, 0, 0, 0, 0, 0, 0, 0],\n",
       "       [0, 0, 0, 0, 0, 0, 0, 0, 0, 0, 0, 0, 0, 0, 0, 0, 0, 0, 0, 0, 0, 0,\n",
       "        0, 0, 0, 0, 0, 0, 0, 0, 0, 0, 0, 0, 0, 0, 0, 0, 0, 0],\n",
       "       [0, 0, 0, 0, 0, 0, 0, 0, 0, 0, 0, 0, 0, 0, 0, 0, 0, 0, 0, 0, 0, 0,\n",
       "        0, 0, 0, 0, 0, 0, 0, 0, 0, 0, 0, 0, 0, 0, 0, 0, 0, 0],\n",
       "       [0, 0, 0, 0, 0, 0, 0, 0, 0, 0, 0, 0, 0, 0, 0, 0, 0, 0, 0, 0, 0, 0,\n",
       "        0, 0, 0, 0, 0, 0, 0, 0, 0, 0, 0, 0, 0, 0, 0, 0, 0, 0],\n",
       "       [0, 0, 0, 0, 0, 0, 0, 0, 0, 0, 0, 0, 0, 0, 0, 0, 0, 0, 0, 0, 0, 0,\n",
       "        0, 0, 0, 0, 0, 0, 0, 0, 0, 0, 0, 0, 0, 0, 0, 0, 0, 0],\n",
       "       [0, 0, 0, 0, 0, 0, 0, 0, 0, 0, 0, 0, 0, 0, 0, 0, 0, 0, 0, 0, 0, 0,\n",
       "        0, 0, 0, 0, 0, 0, 0, 0, 0, 0, 0, 0, 0, 0, 0, 0, 0, 0],\n",
       "       [0, 0, 0, 0, 0, 0, 0, 0, 0, 0, 0, 0, 0, 0, 0, 0, 0, 0, 0, 0, 0, 0,\n",
       "        0, 0, 0, 0, 0, 0, 0, 0, 0, 0, 0, 0, 0, 0, 0, 0, 0, 0],\n",
       "       [0, 0, 0, 0, 0, 0, 0, 0, 0, 0, 0, 0, 0, 0, 0, 0, 0, 0, 0, 0, 0, 0,\n",
       "        0, 0, 0, 0, 0, 0, 0, 0, 0, 0, 0, 0, 0, 0, 0, 0, 0, 0],\n",
       "       [0, 0, 0, 0, 0, 0, 0, 0, 0, 0, 0, 0, 0, 0, 0, 0, 0, 0, 0, 0, 0, 0,\n",
       "        0, 0, 0, 0, 0, 0, 0, 0, 0, 0, 0, 0, 0, 0, 0, 0, 0, 0],\n",
       "       [0, 0, 0, 0, 0, 0, 0, 0, 0, 0, 0, 0, 0, 0, 0, 0, 0, 0, 0, 0, 0, 0,\n",
       "        0, 0, 0, 0, 0, 0, 0, 0, 0, 0, 0, 0, 0, 0, 0, 0, 0, 0],\n",
       "       [0, 0, 0, 0, 0, 0, 0, 0, 0, 0, 0, 0, 0, 0, 0, 0, 0, 0, 0, 0, 0, 0,\n",
       "        0, 0, 0, 0, 0, 0, 0, 0, 0, 0, 0, 0, 0, 0, 0, 0, 0, 0],\n",
       "       [0, 0, 0, 0, 0, 0, 0, 0, 0, 0, 0, 0, 0, 0, 0, 0, 0, 0, 0, 0, 0, 0,\n",
       "        0, 0, 0, 0, 0, 0, 0, 0, 0, 0, 0, 0, 0, 0, 0, 0, 0, 0],\n",
       "       [0, 0, 0, 0, 0, 0, 0, 0, 0, 0, 0, 0, 0, 0, 0, 0, 0, 0, 0, 0, 0, 0,\n",
       "        0, 0, 0, 0, 0, 0, 0, 0, 0, 0, 0, 0, 0, 0, 0, 0, 0, 0],\n",
       "       [0, 0, 0, 0, 0, 0, 0, 0, 0, 0, 0, 0, 0, 0, 0, 0, 0, 0, 0, 0, 0, 0,\n",
       "        0, 0, 0, 0, 0, 0, 0, 0, 0, 0, 0, 0, 0, 0, 0, 0, 0, 0]])"
      ]
     },
     "execution_count": 65,
     "metadata": {},
     "output_type": "execute_result"
    }
   ],
   "source": [
    "grid"
   ]
  },
  {
   "cell_type": "code",
   "execution_count": 66,
   "metadata": {
    "collapsed": true
   },
   "outputs": [],
   "source": [
    "cell_side = 0.5\n",
    "x_offset = (grid.shape[1]*coll_cell_side)/2\n",
    "y_offset = (grid.shape[0]*coll_cell_side)/2\n"
   ]
  },
  {
   "cell_type": "markdown",
   "metadata": {},
   "source": [
    "### A Class to store  every  state and the index"
   ]
  },
  {
   "cell_type": "code",
   "execution_count": 67,
   "metadata": {
    "collapsed": true
   },
   "outputs": [],
   "source": [
    "class link:\n",
    "    def __init__(self, inp_state, inp_index):\n",
    "        self.state = inp_state\n",
    "        self.index = inp_index\n",
    "        "
   ]
  },
  {
   "cell_type": "markdown",
   "metadata": {},
   "source": [
    "### Start And Goal"
   ]
  },
  {
   "cell_type": "code",
   "execution_count": 68,
   "metadata": {
    "collapsed": true
   },
   "outputs": [],
   "source": [
    "class start:\n",
    "\n",
    "    def __init__(self, x, y, theta):\n",
    "        self.x = x\n",
    "        self.y = y\n",
    "        self.theta = theta\n",
    "        \n",
    "class goal:\n",
    "\n",
    "    def __init__(self, x, y):\n",
    "        self.x = x\n",
    "        self.y = y"
   ]
  },
  {
   "cell_type": "markdown",
   "metadata": {},
   "source": [
    "### Helper Functions"
   ]
  },
  {
   "cell_type": "code",
   "execution_count": 69,
   "metadata": {
    "collapsed": true
   },
   "outputs": [],
   "source": [
    "def deg_to_rad(delta):\n",
    "    return delta * np.pi/180"
   ]
  },
  {
   "cell_type": "code",
   "execution_count": 70,
   "metadata": {
    "collapsed": true
   },
   "outputs": [],
   "source": [
    "def rad_to_deg(delta):\n",
    "    return delta * 180 / np.pi"
   ]
  },
  {
   "cell_type": "code",
   "execution_count": 71,
   "metadata": {
    "collapsed": true
   },
   "outputs": [],
   "source": [
    "def heuristic(x,y,goal):\n",
    "    distance  = np.sqrt( ((x-goal.x)**2) + ((y-goal.y)**2) )\n",
    "    return distance"
   ]
  },
  {
   "cell_type": "code",
   "execution_count": 72,
   "metadata": {
    "collapsed": true
   },
   "outputs": [],
   "source": [
    "def normalize(theta):\n",
    "    if theta < 0:    \n",
    "        theta = theta + 2.0 * np.pi\n",
    "        return theta\n",
    "    if theta > 2*np.pi:    \n",
    "        theta = theta - 2.0 * np.pi\n",
    "        return theta\n",
    "    else:\n",
    "        return theta "
   ]
  },
  {
   "cell_type": "code",
   "execution_count": 73,
   "metadata": {
    "collapsed": true
   },
   "outputs": [],
   "source": [
    "def rotation(w,t):\n",
    "    y = np.array([[np.cos(t), np.sin(t)], [-np.sin(t), np.cos(t)]])\n",
    "    return np.matmul(w, y)\n",
    "    "
   ]
  },
  {
   "cell_type": "code",
   "execution_count": 74,
   "metadata": {
    "collapsed": true
   },
   "outputs": [],
   "source": [
    "def transformation(w, x, y,t):\n",
    "    p = np.zeros_like(w)\n",
    "    for i in range(p.shape[0]):\n",
    "        p[i][0:2] = w[i][0:2]+[x,y]\n",
    "        \n",
    "    return rotation(p,(t-np.pi/2))\n",
    "    \n",
    "    "
   ]
  },
  {
   "cell_type": "markdown",
   "metadata": {},
   "source": [
    "### Fill Obstacles in the Grid"
   ]
  },
  {
   "cell_type": "code",
   "execution_count": 196,
   "metadata": {
    "collapsed": true
   },
   "outputs": [],
   "source": [
    "grid[9][0:18] = 0\n"
   ]
  },
  {
   "cell_type": "code",
   "execution_count": 197,
   "metadata": {},
   "outputs": [
    {
     "data": {
      "text/plain": [
       "array([[0, 0, 0, 0, 0, 0, 0, 0, 0, 0, 0, 0, 0, 0, 0, 0, 0, 0, 0, 0, 0, 0,\n",
       "        0, 0, 0, 0, 0, 0, 0, 0, 0, 0, 0, 0, 0, 0, 0, 0, 0, 0],\n",
       "       [0, 0, 0, 0, 0, 0, 0, 0, 0, 0, 0, 0, 0, 0, 0, 0, 0, 0, 0, 0, 0, 0,\n",
       "        0, 0, 0, 0, 0, 0, 0, 0, 0, 0, 0, 0, 0, 0, 0, 0, 0, 0],\n",
       "       [0, 0, 0, 0, 0, 0, 0, 0, 0, 0, 0, 0, 0, 0, 0, 0, 0, 0, 0, 0, 0, 0,\n",
       "        0, 0, 0, 0, 0, 0, 0, 0, 0, 0, 0, 0, 0, 0, 0, 0, 0, 0],\n",
       "       [0, 0, 0, 0, 0, 0, 0, 0, 0, 0, 0, 0, 0, 0, 0, 0, 0, 0, 0, 0, 0, 0,\n",
       "        0, 0, 0, 0, 0, 0, 0, 0, 0, 0, 0, 0, 0, 0, 0, 0, 0, 0],\n",
       "       [0, 0, 0, 0, 0, 0, 0, 0, 0, 0, 0, 0, 0, 0, 0, 0, 0, 0, 0, 0, 0, 0,\n",
       "        0, 0, 0, 0, 0, 0, 0, 0, 0, 0, 0, 0, 0, 0, 0, 0, 0, 0],\n",
       "       [0, 0, 0, 0, 0, 0, 0, 0, 0, 0, 0, 0, 0, 0, 0, 0, 0, 0, 0, 0, 0, 0,\n",
       "        0, 0, 0, 0, 0, 0, 0, 0, 0, 0, 0, 0, 0, 0, 0, 0, 0, 0],\n",
       "       [0, 0, 0, 0, 0, 0, 0, 0, 0, 0, 0, 0, 0, 0, 0, 0, 0, 0, 0, 0, 0, 0,\n",
       "        0, 0, 0, 0, 0, 0, 0, 0, 0, 0, 0, 0, 0, 0, 0, 0, 0, 0],\n",
       "       [0, 0, 0, 0, 0, 0, 0, 0, 0, 0, 0, 0, 0, 0, 0, 0, 0, 0, 0, 0, 0, 0,\n",
       "        0, 0, 0, 0, 0, 0, 0, 0, 0, 0, 0, 0, 0, 0, 0, 0, 0, 0],\n",
       "       [0, 0, 0, 0, 0, 0, 0, 0, 0, 0, 0, 0, 0, 0, 0, 0, 0, 0, 0, 0, 0, 0,\n",
       "        0, 0, 0, 0, 0, 0, 0, 0, 0, 0, 0, 0, 0, 0, 0, 0, 0, 0],\n",
       "       [0, 0, 0, 0, 0, 0, 0, 0, 0, 0, 0, 0, 0, 0, 0, 0, 0, 0, 0, 0, 0, 0,\n",
       "        0, 0, 0, 0, 0, 0, 0, 0, 0, 0, 0, 0, 0, 0, 0, 0, 0, 0],\n",
       "       [0, 0, 0, 0, 0, 0, 0, 0, 0, 0, 0, 0, 0, 0, 0, 0, 0, 0, 0, 0, 0, 0,\n",
       "        0, 0, 0, 0, 0, 0, 0, 0, 0, 0, 0, 0, 0, 0, 0, 0, 0, 0],\n",
       "       [0, 0, 0, 0, 0, 0, 0, 0, 0, 0, 0, 0, 0, 0, 0, 0, 0, 0, 0, 0, 0, 0,\n",
       "        0, 0, 0, 0, 0, 0, 0, 0, 0, 0, 0, 0, 0, 0, 0, 0, 0, 0],\n",
       "       [0, 0, 0, 0, 0, 0, 0, 0, 0, 0, 0, 0, 0, 0, 0, 0, 0, 0, 0, 0, 0, 0,\n",
       "        0, 0, 0, 0, 0, 0, 0, 0, 0, 0, 0, 0, 0, 0, 0, 0, 0, 0],\n",
       "       [0, 0, 0, 0, 0, 0, 0, 0, 0, 0, 0, 0, 0, 0, 0, 0, 0, 0, 0, 0, 0, 0,\n",
       "        0, 0, 0, 0, 0, 0, 0, 0, 0, 0, 0, 0, 0, 0, 0, 0, 0, 0],\n",
       "       [0, 0, 0, 0, 0, 0, 0, 0, 0, 0, 0, 0, 0, 0, 0, 0, 0, 0, 0, 0, 0, 0,\n",
       "        0, 0, 0, 0, 0, 0, 0, 0, 0, 0, 0, 0, 0, 0, 0, 0, 0, 0],\n",
       "       [0, 0, 0, 0, 0, 0, 0, 0, 0, 0, 0, 0, 0, 0, 0, 0, 0, 0, 0, 0, 0, 0,\n",
       "        0, 0, 0, 0, 0, 0, 0, 0, 0, 0, 0, 0, 0, 0, 0, 0, 0, 0],\n",
       "       [0, 0, 0, 0, 0, 0, 0, 0, 0, 0, 0, 0, 0, 0, 0, 0, 0, 0, 0, 0, 0, 0,\n",
       "        0, 0, 0, 0, 0, 0, 0, 0, 0, 0, 0, 0, 0, 0, 0, 0, 0, 0],\n",
       "       [0, 0, 0, 0, 0, 0, 0, 0, 0, 0, 0, 0, 0, 0, 0, 0, 0, 0, 0, 0, 0, 0,\n",
       "        0, 0, 0, 0, 0, 0, 0, 0, 0, 0, 0, 0, 0, 0, 0, 0, 0, 0],\n",
       "       [0, 0, 0, 0, 0, 0, 0, 0, 0, 0, 0, 0, 0, 0, 0, 0, 0, 0, 0, 0, 0, 0,\n",
       "        0, 0, 0, 0, 0, 0, 0, 0, 0, 0, 0, 0, 0, 0, 0, 0, 0, 0],\n",
       "       [0, 0, 0, 0, 0, 0, 0, 0, 0, 0, 0, 0, 0, 0, 0, 0, 0, 0, 0, 0, 0, 0,\n",
       "        0, 0, 0, 0, 0, 0, 0, 0, 0, 0, 0, 0, 0, 0, 0, 0, 0, 0],\n",
       "       [0, 0, 0, 0, 0, 0, 0, 0, 0, 0, 0, 0, 0, 0, 0, 0, 0, 0, 0, 0, 0, 0,\n",
       "        0, 0, 0, 0, 0, 0, 0, 0, 0, 0, 0, 0, 0, 0, 0, 0, 0, 0],\n",
       "       [0, 0, 0, 0, 0, 0, 0, 0, 0, 0, 0, 0, 0, 0, 0, 0, 0, 0, 0, 0, 0, 0,\n",
       "        0, 0, 0, 0, 0, 0, 0, 0, 0, 0, 0, 0, 0, 0, 0, 0, 0, 0],\n",
       "       [0, 0, 0, 0, 0, 0, 0, 0, 0, 0, 0, 0, 0, 0, 0, 0, 0, 0, 0, 0, 0, 0,\n",
       "        0, 0, 0, 0, 0, 0, 0, 0, 0, 0, 0, 0, 0, 0, 0, 0, 0, 0],\n",
       "       [0, 0, 0, 0, 0, 0, 0, 0, 0, 0, 0, 0, 0, 0, 0, 0, 0, 0, 0, 0, 0, 0,\n",
       "        0, 0, 0, 0, 0, 0, 0, 0, 0, 0, 0, 0, 0, 0, 0, 0, 0, 0],\n",
       "       [0, 0, 0, 0, 0, 0, 0, 0, 0, 0, 0, 0, 0, 0, 0, 0, 0, 0, 0, 0, 0, 0,\n",
       "        0, 0, 0, 0, 0, 0, 0, 0, 0, 0, 0, 0, 0, 0, 0, 0, 0, 0],\n",
       "       [0, 0, 0, 0, 0, 0, 0, 0, 0, 0, 0, 0, 0, 0, 0, 0, 0, 0, 0, 0, 0, 0,\n",
       "        0, 0, 0, 0, 0, 0, 0, 0, 0, 0, 0, 0, 0, 0, 0, 0, 0, 0],\n",
       "       [0, 0, 0, 0, 0, 0, 0, 0, 0, 0, 0, 0, 0, 0, 0, 0, 0, 0, 0, 0, 0, 0,\n",
       "        0, 0, 0, 0, 0, 0, 0, 0, 0, 0, 0, 0, 0, 0, 0, 0, 0, 0],\n",
       "       [0, 0, 0, 0, 0, 0, 0, 0, 0, 0, 0, 0, 0, 0, 0, 0, 0, 0, 0, 0, 0, 0,\n",
       "        0, 0, 0, 0, 0, 0, 0, 0, 0, 0, 0, 0, 0, 0, 0, 0, 0, 0],\n",
       "       [0, 0, 0, 0, 0, 0, 0, 0, 0, 0, 0, 0, 0, 0, 0, 0, 0, 0, 0, 0, 0, 0,\n",
       "        0, 0, 0, 0, 0, 0, 0, 0, 0, 0, 0, 0, 0, 0, 0, 0, 0, 0],\n",
       "       [0, 0, 0, 0, 0, 0, 0, 0, 0, 0, 0, 0, 0, 0, 0, 0, 0, 0, 0, 0, 0, 0,\n",
       "        0, 0, 0, 0, 0, 0, 0, 0, 0, 0, 0, 0, 0, 0, 0, 0, 0, 0],\n",
       "       [0, 0, 0, 0, 0, 0, 0, 0, 0, 0, 0, 0, 0, 0, 0, 0, 0, 0, 0, 0, 0, 0,\n",
       "        0, 0, 0, 0, 0, 0, 0, 0, 0, 0, 0, 0, 0, 0, 0, 0, 0, 0],\n",
       "       [0, 0, 0, 0, 0, 0, 0, 0, 0, 0, 0, 0, 0, 0, 0, 0, 0, 0, 0, 0, 0, 0,\n",
       "        0, 0, 0, 0, 0, 0, 0, 0, 0, 0, 0, 0, 0, 0, 0, 0, 0, 0],\n",
       "       [0, 0, 0, 0, 0, 0, 0, 0, 0, 0, 0, 0, 0, 0, 0, 0, 0, 0, 0, 0, 0, 0,\n",
       "        0, 0, 0, 0, 0, 0, 0, 0, 0, 0, 0, 0, 0, 0, 0, 0, 0, 0],\n",
       "       [0, 0, 0, 0, 0, 0, 0, 0, 0, 0, 0, 0, 0, 0, 0, 0, 0, 0, 0, 0, 0, 0,\n",
       "        0, 0, 0, 0, 0, 0, 0, 0, 0, 0, 0, 0, 0, 0, 0, 0, 0, 0],\n",
       "       [0, 0, 0, 0, 0, 0, 0, 0, 0, 0, 0, 0, 0, 0, 0, 0, 0, 0, 0, 0, 0, 0,\n",
       "        0, 0, 0, 0, 0, 0, 0, 0, 0, 0, 0, 0, 0, 0, 0, 0, 0, 0],\n",
       "       [0, 0, 0, 0, 0, 0, 0, 0, 0, 0, 0, 0, 0, 0, 0, 0, 0, 0, 0, 0, 0, 0,\n",
       "        0, 0, 0, 0, 0, 0, 0, 0, 0, 0, 0, 0, 0, 0, 0, 0, 0, 0],\n",
       "       [0, 0, 0, 0, 0, 0, 0, 0, 0, 0, 0, 0, 0, 0, 0, 0, 0, 0, 0, 0, 0, 0,\n",
       "        0, 0, 0, 0, 0, 0, 0, 0, 0, 0, 0, 0, 0, 0, 0, 0, 0, 0],\n",
       "       [0, 0, 0, 0, 0, 0, 0, 0, 0, 0, 0, 0, 0, 0, 0, 0, 0, 0, 0, 0, 0, 0,\n",
       "        0, 0, 0, 0, 0, 0, 0, 0, 0, 0, 0, 0, 0, 0, 0, 0, 0, 0],\n",
       "       [0, 0, 0, 0, 0, 0, 0, 0, 0, 0, 0, 0, 0, 0, 0, 0, 0, 0, 0, 0, 0, 0,\n",
       "        0, 0, 0, 0, 0, 0, 0, 0, 0, 0, 0, 0, 0, 0, 0, 0, 0, 0],\n",
       "       [0, 0, 0, 0, 0, 0, 0, 0, 0, 0, 0, 0, 0, 0, 0, 0, 0, 0, 0, 0, 0, 0,\n",
       "        0, 0, 0, 0, 0, 0, 0, 0, 0, 0, 0, 0, 0, 0, 0, 0, 0, 0]])"
      ]
     },
     "execution_count": 197,
     "metadata": {},
     "output_type": "execute_result"
    }
   ],
   "source": [
    "grid"
   ]
  },
  {
   "cell_type": "code",
   "execution_count": 77,
   "metadata": {
    "scrolled": true
   },
   "outputs": [
    {
     "name": "stdout",
     "output_type": "stream",
     "text": [
      "40\n"
     ]
    }
   ],
   "source": [
    "print(len(grid[0]))"
   ]
  },
  {
   "cell_type": "code",
   "execution_count": 78,
   "metadata": {
    "collapsed": true
   },
   "outputs": [],
   "source": [
    "def get_grid_coordinates(x, y):\n",
    "    x = x+x_offset\n",
    "    y = y+y_offset\n",
    "    cell_x = np.floor(x/cell_side)\n",
    "    cell_y = np.floor(y/cell_side)\n",
    "    #grid[cell_y, cell_x] = 2\n",
    "    return cell_x, cell_y\n",
    "    "
   ]
  },
  {
   "cell_type": "code",
   "execution_count": 94,
   "metadata": {
    "collapsed": true
   },
   "outputs": [],
   "source": [
    "def check_occupancy(x, y):\n",
    "    x = x+x_offset\n",
    "    y = y+y_offset\n",
    "    cell_x = np.floor(x/coll_cell_side)\n",
    "    cell_y = np.floor(y/coll_cell_side)\n",
    "    #grid[cell_y, cell_x] = 2\n",
    "    return grid[int(cell_y), int(cell_x)]\n",
    "    "
   ]
  },
  {
   "cell_type": "code",
   "execution_count": 80,
   "metadata": {
    "collapsed": true
   },
   "outputs": [],
   "source": [
    "def delta_t(delta, n, off):\n",
    "    #delta = deg_to_rad(delta)#for convenient debugging\n",
    "    #off = deg_to_rad(off)#for convenient debugging\n",
    "    delta_list = []\n",
    "    delta_list.append(delta)\n",
    "    delta_calc = delta\n",
    "    for i in range(0 ,n):\n",
    "        delta_calc += off   \n",
    "        if delta_calc < max_angle:\n",
    "            delta_list.append(delta_calc)\n",
    "        \n",
    "    delta_calc = delta\n",
    "    for i in range(0 ,n):\n",
    "        delta_calc -= off\n",
    "        if min_angle < delta_calc:\n",
    "            delta_list.append(delta_calc)\n",
    "        \n",
    "    return delta_list"
   ]
  },
  {
   "cell_type": "code",
   "execution_count": 180,
   "metadata": {},
   "outputs": [
    {
     "data": {
      "text/plain": [
       "[30, 26, 22, 18, 14, 10]"
      ]
     },
     "execution_count": 180,
     "metadata": {},
     "output_type": "execute_result"
    }
   ],
   "source": [
    "x = delta_t(30, 5, 4)\n",
    "x"
   ]
  },
  {
   "cell_type": "code",
   "execution_count": 81,
   "metadata": {
    "collapsed": true
   },
   "outputs": [],
   "source": [
    "def checkLimits( x,y ):\n",
    "    \n",
    "    result = True\n",
    "    \n",
    "    if  ( x < -grid_x_m/2 ) | \\\n",
    "        ( y < -grid_y_m/2 ) | \\\n",
    "        ( x > grid_x_m/2 ) | \\\n",
    "        ( y > grid_y_m/2 ):\n",
    "        \n",
    "        result = False\n",
    "    \n",
    "    return result"
   ]
  },
  {
   "cell_type": "code",
   "execution_count": 82,
   "metadata": {
    "collapsed": true
   },
   "outputs": [],
   "source": [
    "state_cell_side = 0.5\n",
    "grid_state_x = np.int( np.ceil(grid_x_m/state_cell_side) )\n",
    "grid_state_y = np.int( np.ceil(grid_y_m/state_cell_side) )\n",
    "\n",
    "NUM_THETA_CELLS = 360\n",
    "\n",
    "\n",
    "x_state_offset = grid_x_m/2.0\n",
    "y_state_offset = grid_y_m/2.0"
   ]
  },
  {
   "cell_type": "code",
   "execution_count": 88,
   "metadata": {
    "collapsed": true
   },
   "outputs": [],
   "source": [
    "def check_closed(x, y, theta):\n",
    "    x = x + x_state_offset\n",
    "    y = y + y_state_offset\n",
    "    \n",
    "    cell_x = np.floor(x/state_cell_side)\n",
    "    cell_y = np.floor(y/state_cell_side)\n",
    "    \n",
    "    cell_theta = np.floor( theta * NUM_THETA_CELLS / (2.0 * np.pi) )\n",
    "    return closed[int(cell_theta)][int(cell_y)][int(cell_x)]\n",
    "    "
   ]
  },
  {
   "cell_type": "code",
   "execution_count": 89,
   "metadata": {
    "collapsed": true
   },
   "outputs": [],
   "source": [
    "def set_closed(x, y, theta):\n",
    "    x = x + x_state_offset\n",
    "    y = y + y_state_offset\n",
    "    \n",
    "    cell_x = np.floor(x/state_cell_side)\n",
    "    cell_y = np.floor(y/state_cell_side)\n",
    "    \n",
    "    cell_theta = np.floor( theta * NUM_THETA_CELLS / (2.0 * np.pi) )\n",
    "   \n",
    "    closed[int(cell_theta)][int(cell_y)][int(cell_x)] = 1\n"
   ]
  },
  {
   "cell_type": "code",
   "execution_count": 283,
   "metadata": {
    "collapsed": true,
    "scrolled": true
   },
   "outputs": [],
   "source": [
    "current_state = state(0.0, 0.0, np.pi/2, 0.0, 0.0, 0.0, 0.0)\n",
    "new_points = np.copy(vehicle_points)\n",
    "#print(new_points)\n",
    "Goal = goal(0.0, 35.0)    \n",
    "closed = [[[0 for x in range(grid_state_x)] for y in range(grid_state_y)] for cell in range(NUM_THETA_CELLS)]"
   ]
  },
  {
   "cell_type": "code",
   "execution_count": 284,
   "metadata": {
    "collapsed": true
   },
   "outputs": [],
   "source": [
    "#print(current_state.x, current_state.y, current_state.theta)\n",
    "\n",
    "path_state = current_state\n",
    "open_list = []\n",
    "path_link = link( path_state, 0 )\n",
    "open_list.append( path_link )\n",
    "\n",
    "trace_list = []\n",
    "trace_link = link( path_state, -1 )\n",
    "trace_list.append( trace_link )\n",
    "\n",
    "\n",
    "path_x = []\n",
    "path_y = []\n",
    "path_h = []\n",
    "\n",
    "path_x.append( current_state.x )\n",
    "path_y.append( current_state.y )\n",
    "\n",
    "\n"
   ]
  },
  {
   "cell_type": "code",
   "execution_count": 285,
   "metadata": {
    "scrolled": true
   },
   "source": [
    "goal_reached = 0\n",
    "grid_goal = 0\n",
    "counter = 0\n",
    "time_out = 45000\n",
    "low_h = 0\n",
    "low_index = 0\n",
    "for count in range(2):\n",
    "    start = time.time()\n",
    "    while ( len(open_list) > 0 ) & (goal_reached == 0) & (counter<time_out) & (grid_goal == 0):\n",
    "        \n",
    "        counter+=1\n",
    "\n",
    "        open_list.sort( key=lambda x:path_link.state.f )\n",
    "        \n",
    "        \n",
    "    \n",
    "\n",
    "        path_link = open_list.pop(0)\n",
    "        \n",
    "        \n",
    "        path_state = path_link.state\n",
    "        \n",
    "        path_index = path_link.index\n",
    "\n",
    "       # print( \"\" )\n",
    "        #print( \"Best path\")\n",
    "        #print( path_state.x, path_state.y, path_state.theta, path_state.f )\n",
    "        path_x.append( path_state.x )\n",
    "        path_y.append( path_state.y )\n",
    "       \n",
    "\n",
    "        #exit = 0\n",
    "\n",
    "        #while exit == 0:\n",
    "\n",
    "        delta_angle = delta_t( path_state.steer, 4, deg_to_rad(5.0) )\n",
    "        \n",
    "        \n",
    "    \n",
    "        #delta_angle = [ 30 * np.pi / 180, 60 * np.pi / 180, 0, -60 * np.pi / 180, -30 * np.pi / 180 ]\n",
    "\n",
    "        #print( delta_angle )\n",
    "\n",
    "        state_list = []\n",
    "\n",
    "        for i in range(len(delta_angle)):\n",
    "            \n",
    "            new_state = transition( path_state, delta_angle[i], 0.1, Goal)\n",
    "            #print(new_state.x, new_state.y, new_state.f, new_state.steer)\n",
    "            \n",
    "            #print( new_state.x, new_state.y, new_state.theta )\n",
    "            \n",
    "            if checkLimits( new_state.x , new_state.y ) == True:\n",
    "                if check_closed( new_state.x, new_state.y, new_state.theta ) == 0:                \n",
    "                    state_list.append(new_state)\n",
    "                    set_closed( new_state.x, new_state.y, new_state.theta )\n",
    "            \n",
    "            else :\n",
    "                    \n",
    "                    \n",
    "                    X = Goal.x-new_state.x \n",
    "                    Y = Goal.y-new_state.y \n",
    "                    angleInRadian = np.arctan2(Y,X)\n",
    "                    \n",
    "                    diff_theta = np.abs(angleInRadian - new_state.theta)\n",
    "                    print(diff_theta)\n",
    "                    if diff_theta< deg_to_rad(30.0):\n",
    "                        print(\"Now\")\n",
    "                        grid_goal = 1\n",
    "                        break\n",
    "        #break\n",
    "                    \n",
    "                    \n",
    "                    \n",
    "                    #print( new_state.x, new_state.y, new_state.steer )\n",
    "        if grid_goal == 1 : \n",
    "            break\n",
    "\n",
    "        collision_free = []\n",
    "\n",
    "        for i in range(len(state_list)):\n",
    "\n",
    "            check = 0\n",
    "            #new_points = transformation(vehicle_points, state_list[i].x, state_list[i].y, state_list[i].theta)\n",
    "            new_points = [ [ state_list[i].x, state_list[i].y ] ]\n",
    "            \n",
    "            for point in new_points :\n",
    "                if checkLimits(point[0],point[1]) == True:\n",
    "\n",
    "                    get_x, get_y = get_grid_coordinates(point[0], point[1])\n",
    "                    \n",
    "                    check = check_occupancy(point[0], point[1])\n",
    "                   \n",
    "                else :\n",
    "                    \n",
    "                    \n",
    "                    X = state_list[i].x - Goal.x\n",
    "                    Y = state_list[i].y - Goal.y \n",
    "                    angleInRadian = np.arctan2(Y,X)\n",
    "                    print(angleInRadian)\n",
    "                    diff_theta = np.abs(angleInRadian - state_list[i].theta)\n",
    "                    if diff_theta< deg_to_rad(30.0):\n",
    "                        grid_goal = 1                    \n",
    "                    \n",
    "                    check = 1\n",
    "\n",
    "                if check == 1:\n",
    "                    \n",
    "                    \n",
    "                    break\n",
    "\n",
    "            if check == 0:\n",
    "                collision_free.append(state_list[i])\n",
    "                \n",
    "\n",
    "        if( len(collision_free) > 0 ) & (grid_goal == 0):\n",
    "\n",
    "            for nstate in collision_free:\n",
    "                \n",
    "                #print( nstate.x, nstate.y, nstate.theta )\n",
    "                new_link = link( nstate, len(trace_list) )\n",
    "                open_list.append( new_link )\n",
    "                \n",
    "                \n",
    "                \n",
    "                trace_link = link( nstate, path_index )\n",
    "                trace_list.append( trace_link )\n",
    "                \n",
    "                if (low_h == 0) :\n",
    "                    low_h =  nstate.h \n",
    "                    low_index = len(trace_list) - 1\n",
    "                    \n",
    "                elif low_h > nstate.h:\n",
    "                    low_h =  nstate.h \n",
    "                    low_index = len(trace_list) - 1\n",
    "                            \n",
    "                            \n",
    "                            \n",
    "                          \n",
    "                \n",
    "                if np.sqrt((nstate.x - Goal.x)**2 + (nstate.y - Goal.y)**2) < 0.5:\n",
    "                    goal_reached = 1\n",
    "                    path_x.append( nstate.x )\n",
    "                    path_y.append( nstate.y )\n",
    "                    print( \"goal\")\n",
    "                    end = time.time()\n",
    "                    print(\"Process Time\", end - start)\n",
    "\n",
    "               \n",
    "                    \n",
    "                    \n",
    "\n",
    "\n",
    "            #path_state = collision_free[0]\n",
    "\n",
    "            #if checkLimits( path_state ) == True:\n",
    "            #    path_x.append( path_state.x )\n",
    "            #    path_y.append( path_state.y )\n",
    "\n",
    "                #print( path_state.x, path_state.y )\n",
    "\n",
    "\n",
    "    #print( \"\" )\n",
    "    #print( \"Ostates\")\n",
    "    #for ostate in open_list:\n",
    "\n",
    "       # print( ostate.x, ostate.y, ostate.theta, ostate.f )\n",
    "\n",
    "plt.scatter( path_x, path_y )\n",
    "plt.axis('equal')\n",
    "plt.show()\n",
    "        \n",
    "    \n",
    "#print(current_state.x, current_state.y, current_state.theta)\n",
    "#print(new_points)\n",
    "#grid_v = np.copy(grid)\n",
    "\n",
    "#    if check == 1:\n",
    "#        break\n",
    "\n",
    "#if check == 0:\n",
    "#    print(grid_v)\n",
    "\n",
    "#print(grid_v)\n",
    "\n",
    "#plt.scatter(px,py)\n",
    "\n",
    "\n",
    "\n",
    "\n",
    "\n",
    "\n",
    "\n",
    "\n",
    "\n",
    "\n",
    "\n",
    "\n",
    "\n",
    "\n",
    "\n",
    "\n",
    "\n",
    "\n",
    "#plt.show()"
   ]
  },
  {
   "cell_type": "code",
   "execution_count": 245,
   "metadata": {},
   "outputs": [
    {
     "name": "stdout",
     "output_type": "stream",
     "text": [
      "0.2617993877991494\n",
      "0.0\n"
     ]
    },
    {
     "data": {
      "image/png": "iVBORw0KGgoAAAANSUhEUgAAAXQAAAD8CAYAAABn919SAAAABHNCSVQICAgIfAhkiAAAAAlwSFlz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\n6ACQCAIdABLx/3DZP5bNntu8AAAAAElFTkSuQmCC\n",
      "text/plain": [
       "<matplotlib.figure.Figure at 0x7fe1c32c9cc0>"
      ]
     },
     "metadata": {},
     "output_type": "display_data"
    }
   ],
   "source": [
    "if grid_goal ==1:\n",
    "        fpath_x = []\n",
    "        fpath_y = []\n",
    "        \n",
    "        curr_trace = trace_list[path_index]\n",
    "        \n",
    "        while( curr_trace.index != -1 ):\n",
    "            fpath_x.append( curr_trace.state.x )\n",
    "            fpath_y.append( curr_trace.state.y )\n",
    "            next_trace = curr_trace\n",
    "            curr_trace = trace_list[ curr_trace.index ]\n",
    "            \n",
    "        plt.scatter( fpath_x, fpath_y )\n",
    "        print(next_trace.state.steer)\n",
    "        print(curr_trace.state.steer)\n",
    "        plt.axis( 'equal' )\n",
    "        plt.show()\n",
    "    \n",
    "    "
   ]
  },
  {
   "cell_type": "code",
   "execution_count": null,
   "metadata": {
    "collapsed": true
   },
   "outputs": [],
   "source": []
  },
  {
   "cell_type": "code",
   "execution_count": 243,
   "metadata": {},
   "outputs": [],
   "source": [
    "if goal_reached == 1 :\n",
    "        fpath_x = []\n",
    "        fpath_y = []\n",
    "        \n",
    "        curr_trace = trace_list[-1]\n",
    "        \n",
    "        while( curr_trace.index != -1 ):\n",
    "            fpath_x.append( curr_trace.state.x )\n",
    "            fpath_y.append( curr_trace.state.y )\n",
    "            \n",
    "            curr_trace = trace_list[ curr_trace.index ]\n",
    "            \n",
    "        plt.scatter( fpath_x, fpath_y )\n",
    "        plt.axis( 'equal' )\n",
    "        plt.show()\n",
    "    "
   ]
  },
  {
   "cell_type": "code",
   "execution_count": 244,
   "metadata": {},
   "outputs": [],
   "source": [
    "if (goal_reached == 0) & (grid_goal == 0) :\n",
    "        fpath_x = []\n",
    "        fpath_y = []\n",
    "        fpath_theta = []\n",
    "        \n",
    "        curr_trace = trace_list[low_index]\n",
    "        \n",
    "        while( curr_trace.index != -1 ):\n",
    "            fpath_x.append( curr_trace.state.x )\n",
    "            fpath_y.append( curr_trace.state.y )\n",
    "            fpath_theta.append(curr_trace.state.theta)\n",
    "            \n",
    "            curr_trace = trace_list[ curr_trace.index ]\n",
    "            \n",
    "            \n",
    "\n",
    "\n",
    "\n",
    "        plt.scatter( fpath_x, fpath_y )\n",
    "        plt.axis( 'equal' )\n",
    "        plt.show()\n",
    "\n",
    "        "
   ]
  }
 ],
 "metadata": {
  "kernelspec": {
   "display_name": "Python 3",
   "language": "python",
   "name": "python3"
  },
  "language_info": {
   "codemirror_mode": {
    "name": "ipython",
    "version": 3
   },
   "file_extension": ".py",
   "mimetype": "text/x-python",
   "name": "python",
   "nbconvert_exporter": "python",
   "pygments_lexer": "ipython3",
   "version": "3.6.3"
  },
  "widgets": {
   "state": {},
   "version": "1.1.2"
  }
 },
 "nbformat": 4,
 "nbformat_minor": 2
}
