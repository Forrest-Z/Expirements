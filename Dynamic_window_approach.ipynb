{
  "nbformat": 4,
  "nbformat_minor": 0,
  "metadata": {
    "colab": {
      "name": "TensorFlow with GPU",
      "version": "0.3.2",
      "provenance": [],
      "collapsed_sections": [],
      "include_colab_link": true
    },
    "kernelspec": {
      "display_name": "Python 2",
      "name": "python2"
    }
  },
  "cells": [
    {
      "cell_type": "markdown",
      "metadata": {
        "id": "view-in-github",
        "colab_type": "text"
      },
      "source": [
        "[View in Colaboratory](https://colab.research.google.com/github/sharathsrini/Expirements/blob/master/Dynamic_window_approach.ipynb)"
      ]
    },
    {
      "metadata": {
        "id": "Ysq3O_CIt0lY",
        "colab_type": "text"
      },
      "cell_type": "markdown",
      "source": [
        "# **The Dynamic Window Approach to Collision Avoidance**"
      ]
    },
    {
      "metadata": {
        "id": "DPDUxLzR-k81",
        "colab_type": "text"
      },
      "cell_type": "markdown",
      "source": [
        "There are ** two main goal** s, calculate a ***valid velocity search space***, and ***select the optimal velocity***. The search space is constructed from the set of velocities which produce a safe trajectory (i.e. allow the robot to stop before colliding), given the set of velocities the robot can achieve in the next time slice given its dynamics ('dynamic window'). The optimal velocity is selected to maximize the robots clearance, maximize the velocity and obtain the heading closest to the goal. \n"
      ]
    },
    {
      "metadata": {
        "id": "Lzky37iEs2-M",
        "colab_type": "code",
        "colab": {
          "base_uri": "https://localhost:8080/",
          "height": 17
        },
        "outputId": "2fcbc558-e8ce-43ea-d7e5-939d985657ff"
      },
      "cell_type": "code",
      "source": [
        "import math\n",
        "import numpy as np\n",
        "import matplotlib.pyplot as plt\n",
        "\n"
      ],
      "execution_count": 1,
      "outputs": []
    },
    {
      "metadata": {
        "id": "g4cUm-satMHl",
        "colab_type": "code",
        "colab": {
          "base_uri": "https://localhost:8080/",
          "height": 17
        },
        "outputId": "a54a657e-0b97-4879-f930-ff3ba478ff8c"
      },
      "cell_type": "code",
      "source": [
        "plot_mission = True\n",
        "class Config():\n",
        "    # simulation parameters\n",
        "\n",
        "    def __init__(self):\n",
        "        # robot parameter\n",
        "        self.max_speed = 7.0  # [m/s]\n",
        "        self.min_speed = 0.0  # [m/s]\n",
        "        self.max_yawrate = 45.0 * math.pi / 180.0  # [rad/s]\n",
        "        self.max_accel = 0.2  # [m/ss]\n",
        "        self.max_dyawrate = 40.0 * math.pi / 180.0  # [rad/ss]\n",
        "        self.v_reso = 0.01  # [m/s]\n",
        "        self.yawrate_reso = 0.1 * math.pi / 180.0  # [rad/s]\n",
        "        self.dt = 0.1  # [s]\n",
        "        self.predict_time = 3.0  # [s]\n",
        "        self.to_goal_cost_gain = 1.0\n",
        "        self.speed_cost_gain = 1.0\n",
        "        self.robot_radius = 1.0  # [m]"
      ],
      "execution_count": 19,
      "outputs": []
    },
    {
      "metadata": {
        "id": "Z91oD-dGtXWg",
        "colab_type": "code",
        "colab": {
          "base_uri": "https://localhost:8080/",
          "height": 17
        },
        "outputId": "c8e1c5f4-7509-4835-f493-127553ae4c58"
      },
      "cell_type": "code",
      "source": [
        "def motion(x, u, dt):\n",
        "    # motion model\n",
        "\n",
        "    x[0] += u[0] * math.cos(x[2]) * dt\n",
        "    x[1] += u[0] * math.sin(x[2]) * dt\n",
        "    x[2] += u[1] * dt\n",
        "    x[3] = u[0]\n",
        "    x[4] = u[1]\n",
        "\n",
        "    return x\n"
      ],
      "execution_count": 3,
      "outputs": []
    },
    {
      "metadata": {
        "id": "spCXJZuQtakF",
        "colab_type": "code",
        "colab": {
          "base_uri": "https://localhost:8080/",
          "height": 17
        },
        "outputId": "b9b66c9d-a5c2-456b-bb29-46832a7b4ccf"
      },
      "cell_type": "code",
      "source": [
        "def calc_dynamic_window(x, config):\n",
        "\n",
        "    # Dynamic window from robot specification\n",
        "    Vs = [config.min_speed, config.max_speed,\n",
        "          -config.max_yawrate, config.max_yawrate]\n",
        "\n",
        "    # Dynamic window from motion model\n",
        "    Vd = [x[3] - config.max_accel * config.dt,\n",
        "          x[3] + config.max_accel * config.dt,\n",
        "          x[4] - config.max_dyawrate * config.dt,\n",
        "          x[4] + config.max_dyawrate * config.dt]\n",
        "    #  print(Vs, Vd)\n",
        "\n",
        "    #  [vmin,vmax, yawrate min, yawrate max]\n",
        "    dw = [max(Vs[0], Vd[0]), min(Vs[1], Vd[1]),\n",
        "          max(Vs[2], Vd[2]), min(Vs[3], Vd[3])]\n",
        "    #  print(dw)\n",
        "\n",
        "    return dw\n"
      ],
      "execution_count": 4,
      "outputs": []
    },
    {
      "metadata": {
        "id": "GvZNbFOgtdzB",
        "colab_type": "code",
        "colab": {
          "base_uri": "https://localhost:8080/",
          "height": 17
        },
        "outputId": "edf31b70-e8b5-4cb3-90da-2a686e51ed14"
      },
      "cell_type": "code",
      "source": [
        "def calc_trajectory(xinit, v, y, config):\n",
        "\n",
        "    x = np.array(xinit)\n",
        "    traj = np.array(x)\n",
        "    time = 0\n",
        "    while time <= config.predict_time:\n",
        "        x = motion(x, [v, y], config.dt)\n",
        "        traj = np.vstack((traj, x))\n",
        "        time += config.dt\n",
        "\n",
        "    #  print(len(traj))\n",
        "    return traj\n"
      ],
      "execution_count": 5,
      "outputs": []
    },
    {
      "metadata": {
        "id": "fIzf8W2vthHG",
        "colab_type": "code",
        "colab": {
          "base_uri": "https://localhost:8080/",
          "height": 17
        },
        "outputId": "a4d12ac8-7d33-4ffa-d964-ad638be7e26d"
      },
      "cell_type": "code",
      "source": [
        "\n",
        "def calc_final_input(x, u, dw, config, goal, ob):\n",
        "\n",
        "    xinit = x[:]\n",
        "    min_cost = 10000.0\n",
        "    min_u = u\n",
        "    min_u[0] = 0.0\n",
        "    best_traj = np.array([x])\n",
        "\n",
        "    # evalucate all trajectory with sampled input in dynamic window\n",
        "    for v in np.arange(dw[0], dw[1], config.v_reso):\n",
        "        for y in np.arange(dw[2], dw[3], config.yawrate_reso):\n",
        "            traj = calc_trajectory(xinit, v, y, config)\n",
        "\n",
        "            # calc cost\n",
        "            to_goal_cost = calc_to_goal_cost(traj, goal, config)\n",
        "            speed_cost = config.speed_cost_gain * \\\n",
        "                (config.max_speed - traj[-1, 3])\n",
        "            ob_cost = calc_obstacle_cost(traj, ob, config)\n",
        "            #  print(ob_cost)\n",
        "\n",
        "            final_cost = to_goal_cost + speed_cost + ob_cost\n",
        "\n",
        "            # search minimum trajectory\n",
        "            if min_cost >= final_cost:\n",
        "                min_cost = final_cost\n",
        "                min_u = [v, y]\n",
        "                best_traj = traj\n",
        "\n",
        "    #  print(min_u)\n",
        "    #  input()\n",
        "\n",
        "    return min_u, best_traj\n"
      ],
      "execution_count": 6,
      "outputs": []
    },
    {
      "metadata": {
        "id": "gT_jocnBtlQn",
        "colab_type": "code",
        "colab": {
          "base_uri": "https://localhost:8080/",
          "height": 17
        },
        "outputId": "782a5273-482d-4be6-be18-d1141c4a82fe"
      },
      "cell_type": "code",
      "source": [
        "def calc_obstacle_cost(traj, ob, config):\n",
        "    # calc obstacle cost inf: collistion, 0:free\n",
        "\n",
        "    skip_n = 2\n",
        "    minr = float(\"inf\")\n",
        "\n",
        "    for ii in range(0, len(traj[:, 1]), skip_n):\n",
        "        for i in range(len(ob[:, 0])):\n",
        "            ox = ob[i, 0]\n",
        "            oy = ob[i, 1]\n",
        "            dx = traj[ii, 0] - ox\n",
        "            dy = traj[ii, 1] - oy\n",
        "\n",
        "            r = math.sqrt(dx**2 + dy**2)\n",
        "            if r <= config.robot_radius:\n",
        "                return float(\"Inf\")  # collisiton\n",
        "\n",
        "            if minr >= r:\n",
        "                minr = r\n",
        "\n",
        "    return 1.0 / minr  # OK\n"
      ],
      "execution_count": 7,
      "outputs": []
    },
    {
      "metadata": {
        "id": "rcaF_4jXtoTH",
        "colab_type": "code",
        "colab": {
          "base_uri": "https://localhost:8080/",
          "height": 17
        },
        "outputId": "b5ab58e0-8213-47ee-8898-3f61ae24bac4"
      },
      "cell_type": "code",
      "source": [
        "def calc_to_goal_cost(traj, goal, config):\n",
        "    # calc to goal cost. It is 2D norm.\n",
        "\n",
        "    dy = goal[0] - traj[-1, 0]\n",
        "    dx = goal[1] - traj[-1, 1]\n",
        "    goal_dis = math.sqrt(dx**2 + dy**2)\n",
        "    cost = config.to_goal_cost_gain * goal_dis\n",
        "\n",
        "    return cost"
      ],
      "execution_count": 8,
      "outputs": []
    },
    {
      "metadata": {
        "id": "N9dF1PMstsSe",
        "colab_type": "code",
        "colab": {
          "base_uri": "https://localhost:8080/",
          "height": 17
        },
        "outputId": "680dde59-e953-4c66-afb7-e203326eca3f"
      },
      "cell_type": "code",
      "source": [
        "def dwa_control(x, u, config, goal, ob):\n",
        "    # Dynamic Window control\n",
        "\n",
        "    dw = calc_dynamic_window(x, config)\n",
        "\n",
        "    u, traj = calc_final_input(x, u, dw, config, goal, ob)\n",
        "\n",
        "    return u, traj\n"
      ],
      "execution_count": 9,
      "outputs": []
    },
    {
      "metadata": {
        "id": "_qMDes8zuCUp",
        "colab_type": "code",
        "colab": {
          "base_uri": "https://localhost:8080/",
          "height": 17
        },
        "outputId": "05445fef-77b6-4a60-e2e9-fd23ca769e04"
      },
      "cell_type": "code",
      "source": [
        "def plot_arrow(x, y, yaw, length=0.5, width=0.1):\n",
        "    plt.arrow(x, y, length * math.cos(yaw), length * math.sin(yaw),\n",
        "              head_length=width, head_width=width)\n",
        "    plt.plot(x, y)"
      ],
      "execution_count": 10,
      "outputs": []
    },
    {
      "metadata": {
        "id": "MvXo2jiJuHPl",
        "colab_type": "code",
        "colab": {
          "base_uri": "https://localhost:8080/",
          "height": 381
        },
        "outputId": "e8126655-cc7f-45cb-b948-f32359027463"
      },
      "cell_type": "code",
      "source": [
        "def main():\n",
        "\n",
        "    # initial state [x(m), y(m), yaw(rad), v(m/s), omega(rad/s)]\n",
        "    \n",
        "    x = np.array([0.0, 0.0, math.pi / 8.0, 0.0, 0.0])\n",
        "    \n",
        "    # goal position [x(m), y(m)]\n",
        "    goal = np.array([0, 5])\n",
        "    \n",
        "    # obstacles [x(m) y(m), ....]\n",
        "    \n",
        "    \n",
        "    \n",
        "    ob = np.matrix([[10.0, 30.0],\n",
        "                   [-5.0, 10.0],\n",
        "                   [5.0, 10.0],\n",
        "                   [0.0, 40.0],\n",
        "                   [35.0,45.0],\n",
        "\t\t               [7.0,25.0],\n",
        "\t\t               [-7.0,25.0],\n",
        "                   ])\t\n",
        "    \n",
        "    \n",
        "    \n",
        "#     ob = np.matrix([[-1, -1],\n",
        "#                     [0, 2],\n",
        "#                     [4.0, 2.0],\n",
        "#                     [5.0, 4.0],\n",
        "#                     [5.0, 5.0],\n",
        "#                     [5.0, 6.0],\n",
        "#                     [5.0, 9.0],\n",
        "#                     [8.0, 9.0],\n",
        "#                     [7.0, 9.0],\n",
        "#                     [12.0, 12.0]\n",
        "#                     ])\n",
        "    \n",
        "\n",
        "    u = np.array([0.0, 0.0])\n",
        "    config = Config()\n",
        "    traj = np.array(x)\n",
        "\n",
        "    for i in range(1000):\n",
        "        u, ltraj = dwa_control(x, u, config, goal, ob)\n",
        "\n",
        "        x = motion(x, u, config.dt)\n",
        "        traj = np.vstack((traj, x))  # store state history\n",
        "\n",
        "#         if plot_mission:\n",
        "#             plt.cla()\n",
        "#             plt.plot(ltraj[:, 0], ltraj[:, 1], \"-g\")\n",
        "#             plt.plot(x[0], x[1], \"xr\")\n",
        "#             plt.plot(goal[0], goal[1], \"xb\")\n",
        "#             plt.plot(ob[:, 0], ob[:, 1], \"ok\")\n",
        "#             plot_arrow(x[0], x[1], x[2])\n",
        "#             plt.axis(\"equal\")\n",
        "#             plt.grid(True)\n",
        "#             plt.pause(0.0001)\n",
        "\n",
        "        # check goal\n",
        "        if math.sqrt((x[0] - goal[0])**2 + (x[1] - goal[1])**2) <= config.robot_radius:\n",
        "            print(\"Goal!!\")\n",
        "            break\n",
        "\n",
        "    print(\"Done\")\n",
        "    if plot_mission:\n",
        "        plt.plot(traj[:, 0], traj[:, 1], \"-r\")\n",
        "        plt.show()\n",
        "\n",
        "\n",
        "if __name__ == '__main__':\n",
        "    main()"
      ],
      "execution_count": 23,
      "outputs": [
        {
          "output_type": "stream",
          "text": [
            "Goal!!\n",
            "Done\n"
          ],
          "name": "stdout"
        },
        {
          "output_type": "display_data",
          "data": {
            "image/png": "[encoded data removed]",
            "text/plain": [
              "<matplotlib.figure.Figure at 0x7f9db8261ad0>"
            ]
          },
          "metadata": {
            "tags": []
          }
        }
      ]
    },
    {
      "metadata": {
        "id": "NBy2Dm7g41Gv",
        "colab_type": "code",
        "colab": {}
      },
      "cell_type": "code",
      "source": [
        ""
      ],
      "execution_count": 0,
      "outputs": []
    }
  ]
}